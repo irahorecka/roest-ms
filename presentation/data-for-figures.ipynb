{
 "cells": [
  {
   "cell_type": "markdown",
   "id": "e19b6aae-4ce6-475a-9d2c-b1a7ada69a2f",
   "metadata": {},
   "source": [
    "## Jupyter notebook to generate data for figures.\n",
    "\n",
    "Figures should be plotted in a separate Jupyter notebook"
   ]
  },
  {
   "cell_type": "markdown",
   "id": "26eb4825-fd0e-4121-8042-1417cd857bb6",
   "metadata": {},
   "source": [
    "### For generating data of percentage of significant peaks in file 1330_0 between RT 2400-2700"
   ]
  },
  {
   "cell_type": "code",
   "execution_count": 1,
   "id": "2d27e208-9d99-444c-84f6-a65f4ded0bbc",
   "metadata": {},
   "outputs": [
    {
     "name": "stderr",
     "output_type": "stream",
     "text": [
      "Determination of memory status is not supported on this \n",
      " platform, measuring for memoryleaks will never fail\n"
     ]
    }
   ],
   "source": [
    "import json\n",
    "import math\n",
    "import os\n",
    "from copy import copy\n",
    "from pathlib import Path\n",
    "\n",
    "import matplotlib.pyplot as plt\n",
    "import numpy as np\n",
    "import pandas as pd\n",
    "import pyopenms as pms\n",
    "\n",
    "BASE_DIR = Path().resolve().parent\n",
    "TSV_DIR = BASE_DIR / \"data\" / \"tsv\"\n",
    "MZML_DIR = BASE_DIR / \"data\" / \"mzml\"\n",
    "MZML_MAPPED_TSV_DIR = TSV_DIR / \"mapped_mzml_to_osw_qval_01_mz_window_20ppm\"\n",
    "FIG_DATA_DIR = BASE_DIR / \"presentation\" / \"data\"\n"
   ]
  },
  {
   "cell_type": "code",
   "execution_count": 2,
   "id": "dbbbb909-125f-4561-b1bc-bcc1bdacdd67",
   "metadata": {},
   "outputs": [],
   "source": [
    "# Get MZML experiment object\n",
    "\n",
    "mzml_filepath = (\n",
    "    MZML_DIR\n",
    "    / \"Rost_DIApy3_SP2um_90min_250ngK562_100nL_1_Slot1-5_1_1330_6-28-2021_0_2400_to_2700_swath_700.mzML\"\n",
    ")\n",
    "\n",
    "\n",
    "def get_msexperiment_obj(mzml_filepath):\n",
    "    # Read corresponding mzML file and load it into pyopenms object\n",
    "    msexperiment = pms.MSExperiment()\n",
    "    pms.MzMLFile().load(str(mzml_filepath), msexperiment)\n",
    "    return msexperiment\n",
    "\n",
    "\n",
    "exps = get_msexperiment_obj(mzml_filepath)\n"
   ]
  },
  {
   "cell_type": "code",
   "execution_count": 3,
   "id": "bb54710b-2e41-4958-b71d-11f463b020ba",
   "metadata": {},
   "outputs": [],
   "source": [
    "# Path to significant QVALUE OSW datapath\n",
    "sig_qvalue_osw = TSV_DIR / \"20220127_run_1330_0_sig_qval_null_feature_ftrans_trans_score_ms2.tsv\"\n",
    "# Path to one of the 168 MZML experiments - isolated significant peaks\n",
    "mzml_exp = MZML_MAPPED_TSV_DIR / \"merged_20220127_frame=22786_scan=452_qvalue_01.tsv\"\n"
   ]
  },
  {
   "cell_type": "code",
   "execution_count": 4,
   "id": "80604ba0-580c-44b7-b0c8-fc5f37a257ce",
   "metadata": {},
   "outputs": [],
   "source": [
    "# Load significant QVALUE OSW dataframe\n",
    "sig_qvalue_osw_df = pd.read_csv(sig_qvalue_osw, sep=\"\\t\").drop(columns=[\"FEATURE_ID\"])\n",
    "# Load significant MZML experiment\n",
    "mzml_exp_df = pd.read_csv(mzml_exp, sep=\"\\t\")\n",
    "# Merge loaded df on col TRANSITION_ID\n",
    "merged_mzml_osw_df = mzml_exp_df.merge(sig_qvalue_osw_df, on=\"TRANSITION_ID\")\n"
   ]
  },
  {
   "cell_type": "code",
   "execution_count": 5,
   "id": "f9a14712-1d34-4f32-9390-f483ca0cf634",
   "metadata": {},
   "outputs": [],
   "source": [
    "# Generate IM range for filtering - +/- 0.05\n",
    "im_range = 0.05\n",
    "merged_mzml_osw_df[\"EXP_IM_LEFT\"] = merged_mzml_osw_df[\"EXP_IM\"] - im_range\n",
    "merged_mzml_osw_df[\"EXP_IM_RIGHT\"] = merged_mzml_osw_df[\"EXP_IM\"] + im_range\n"
   ]
  },
  {
   "cell_type": "code",
   "execution_count": 29,
   "id": "5d693595-0abe-476b-9d4c-17e4a7d994d8",
   "metadata": {},
   "outputs": [
    {
     "data": {
      "text/plain": [
       "(0.8307423144213947,\n",
       " 0.2427893026743314,\n",
       " 0.1342664333916521,\n",
       " 'frame=24707_scan=452')"
      ]
     },
     "execution_count": 29,
     "metadata": {},
     "output_type": "execute_result"
    }
   ],
   "source": [
    "# Define function to gather percentage significant peaks in various settings such as:\n",
    "# - % peaks found in a significant file compared to MZML object\n",
    "# - % peaks found using RT range in a significant file compared to MZML object\n",
    "# - % peaks found using RT and IM range in a significant file compared to MZML object\n",
    "\n",
    "from collections import Counter\n",
    "\n",
    "\n",
    "def get_perc_peaks_found_in_mzml(reduced_df, reduced_df_filename, merged_df, mzml_exps):\n",
    "    def round_(x):\n",
    "        \"\"\"For floating point conversion - nearly impossible to do comparison otherwise.\"\"\"\n",
    "        return str(x)[:8]\n",
    "\n",
    "    # Get experiment ID from filename\n",
    "    exp_name_tsv = \"frame\" + str(reduced_df_filename).split(\"frame\")[-1].split(\"_qvalue\")[0]\n",
    "    # Iterate through MZML experiments and match with filename.\n",
    "    for mz_idx, exp in enumerate(mzml_exps):\n",
    "        if exp_name_tsv == exp.getNativeID():\n",
    "            # If filename match, extract attributes from MZML experiment\n",
    "            mz, int_ = exp.get_peaks()\n",
    "            rt = exp.getRT()\n",
    "            im = list(exp.getFloatDataArrays()[0].get_data())\n",
    "            peak_count = map(round_, mz)\n",
    "            break\n",
    "    # Create counter for peak counts.\n",
    "    peak_count_map = dict(Counter(peak_count))\n",
    "\n",
    "    # Find just sig MZ from isolated dataframe\n",
    "    found_mz_peaks = set(map(round_, reduced_df[\"MZ\"]))\n",
    "    count = 0\n",
    "    for peak in found_mz_peaks:\n",
    "        count += peak_count_map[peak]\n",
    "    # % peaks found in a significant file compared to MZML object\n",
    "    mz_perc = count / len(mz)\n",
    "\n",
    "    # Find sig MZ in RT window\n",
    "    rt_window_df = merged_df[(merged_df[\"LEFT_WIDTH\"] < rt) & (merged_df[\"RIGHT_WIDTH\"] > rt)]\n",
    "    found_mz_rt_peaks = set(map(round_, rt_window_df[\"MZ\"]))\n",
    "    count = 0\n",
    "    for peak in found_mz_rt_peaks:\n",
    "        count += peak_count_map[peak]\n",
    "    # % peaks found using RT range in a significant file compared to MZML object\n",
    "    mz_rt_perc = count / len(mz)\n",
    "\n",
    "    # Find sig MZ in RT window AND in IM window\n",
    "    rt_im_window_df = rt_window_df[\n",
    "        (rt_window_df[\"EXP_IM_LEFT\"] < rt_window_df[\"IM\"]) & (rt_window_df[\"EXP_IM_RIGHT\"] > rt_window_df[\"IM\"])\n",
    "    ]\n",
    "    found_mz_rt_im_peaks = set(map(round_, rt_im_window_df[\"MZ\"]))\n",
    "    count = 0\n",
    "    for peak in found_mz_rt_im_peaks:\n",
    "        count += peak_count_map[peak]\n",
    "    # % peaks found using RT and IM range in a significant file compared to MZML object\n",
    "    mz_rt_im_perc = count / len(mz)\n",
    "\n",
    "    # Return MZ percentage, MZ-RT percentage, MZ-RT-IM percentage, and experiment ID\n",
    "    return mz_perc, mz_rt_perc, mz_rt_im_perc, exp.getNativeID()\n",
    "\n",
    "\n",
    "# Test logic\n",
    "perc = get_perc_peaks_found_in_mzml(mzml_exp_df, mzml_exp, merged_mzml_osw_df, exps)\n",
    "perc\n"
   ]
  },
  {
   "cell_type": "code",
   "execution_count": 30,
   "id": "93f580a8-3c74-4abd-aa61-b6812beb81de",
   "metadata": {},
   "outputs": [
    {
     "name": "stdout",
     "output_type": "stream",
     "text": [
      "0.8307423144213947 0.2427893026743314 0.1342664333916521 frame=24707_scan=452\n",
      "0.8465314278267668 0.28213370400938276 0.15833369532166283 frame=24520_scan=452\n",
      "0.8259611795446062 0.2787420679357969 0.14386587034963294 frame=23857_scan=452\n",
      "0.8408159781495391 0.3024069648344145 0.1605496756572209 frame=25370_scan=452\n",
      "0.8200152430087354 0.2837544703054464 0.14996775517382893 frame=23687_scan=452\n",
      "0.81353591160221 0.2793242668933277 0.1434339141521462 frame=23704_scan=452\n",
      "0.8167010782289515 0.28407563989119394 0.15422934486939993 frame=25166_scan=452\n",
      "0.8108077869769523 0.2964869098232267 0.15456477959275006 frame=23602_scan=452\n",
      "0.8229805660085572 0.3167173565647714 0.16686427135419352 frame=25557_scan=452\n",
      "0.8178158027176649 0.28227597027739126 0.14923473163799994 frame=23381_scan=452\n",
      "0.8200954360040021 0.29438928653890556 0.14965750788886323 frame=23738_scan=452\n",
      "0.8078499635016003 0.23903644224830142 0.1298781514964344 frame=24673_scan=452\n",
      "0.8198760970573051 0.32003097573567374 0.17201858544140422 frame=24248_scan=452\n",
      "0.8202960654460459 0.2854304635761589 0.14857810673938449 frame=23891_scan=452\n",
      "0.8556194284762143 0.26326751645421975 0.1405898525368658 frame=24775_scan=452\n",
      "0.8231853694731788 0.3084108070359216 0.1748941556457597 frame=24010_scan=452\n",
      "0.8118592964824121 0.29673366834170856 0.17648241206030152 frame=24163_scan=452\n",
      "0.8165680473372781 0.2653890311754835 0.13786099090347081 frame=24911_scan=452\n",
      "0.8370531058362187 0.294188811480539 0.14659380084268492 frame=25302_scan=452\n",
      "0.8091422975920238 0.28032225041171493 0.15106600792273112 frame=23466_scan=452\n",
      "0.843929215140095 0.2751925282647878 0.15533344256922824 frame=24826_scan=452\n",
      "0.8072121173711896 0.2844286710184422 0.13961594524367832 frame=23670_scan=452\n",
      "0.8358409057053479 0.3073514077163712 0.1833382988231789 frame=24095_scan=452\n",
      "0.8488165680473373 0.29268808114961964 0.15794590025359256 frame=25387_scan=452\n",
      "0.8182365634566167 0.2865960756762182 0.14874291162744016 frame=23551_scan=452\n",
      "0.8355513804081207 0.32200824591618393 0.16476175564949638 frame=25591_scan=452\n",
      "0.8030451476234609 0.2749900701707931 0.1433602542036277 frame=23347_scan=452\n",
      "0.7552518472014295 0.25416525812527163 0.11981455546433573 frame=22837_scan=452\n",
      "0.8392646314724237 0.30532130207454883 0.1622111654579187 frame=23160_scan=452\n",
      "0.8424441704343061 0.3222016714618441 0.16663241539936977 frame=23279_scan=452\n",
      "0.836522993287846 0.27580850945803514 0.15731957619126866 frame=24605_scan=452\n",
      "0.8371199352794445 0.28278163554237173 0.14518303782107464 frame=25455_scan=452\n",
      "0.8368775440331723 0.30600677140792026 0.1589378780385742 frame=25064_scan=452\n",
      "0.8340903841712218 0.3046423897143737 0.18380937716529372 frame=24112_scan=452\n",
      "0.847831820065554 0.3177108842255962 0.1840033153750518 frame=24061_scan=452\n",
      "0.8085164740974389 0.2762711283299619 0.14331264785545308 frame=25200_scan=452\n",
      "0.8457040839098415 0.33706761883508146 0.17558580673956706 frame=23194_scan=452\n",
      "0.8206883958732767 0.30936729663106 0.1739249520679266 frame=23993_scan=452\n",
      "0.8014195646139816 0.29156588286609303 0.1522661485388001 frame=23092_scan=452\n",
      "0.8418379783862843 0.30247013894531566 0.17786625497684244 frame=24129_scan=452\n",
      "0.8555923229649239 0.3502757555702625 0.18345466578424885 frame=23245_scan=452\n",
      "0.8043671749836824 0.3144840681184359 0.1812140271761704 frame=24197_scan=452\n",
      "0.830435456376879 0.28256624825662485 0.1426623275995661 frame=23772_scan=452\n",
      "0.8184642963848222 0.25921720944129073 0.14657902599342695 frame=24639_scan=452\n",
      "0.8325902719203117 0.28919146885166885 0.14351126641764067 frame=25285_scan=452\n",
      "0.8547374933710448 0.2965794590772494 0.15109598727240586 frame=25336_scan=452\n",
      "0.8327119177036072 0.24567629486545978 0.13359687345581958 frame=24741_scan=452\n",
      "0.780316422131872 0.2607831005833481 0.12307760296977197 frame=22803_scan=452\n",
      "0.8277034883720931 0.2822674418604651 0.14267441860465116 frame=23789_scan=452\n",
      "0.7026324193621972 0.2104566814179479 0.10465805921803002 frame=22905_scan=452\n",
      "0.8473790906458152 0.3010787720822473 0.1659788589632204 frame=25098_scan=452\n",
      "0.7588368783414746 0.26147159506134854 0.13492826647178738 frame=23058_scan=452\n",
      "0.8242456582904822 0.30493839138449597 0.16838071213738237 frame=23959_scan=452\n",
      "0.7987590728166706 0.2693163193631468 0.12532193865605246 frame=24418_scan=452\n",
      "0.7098447616818785 0.1824245260940791 0.08737030969654419 frame=22939_scan=452\n",
      "0.7983213302266469 0.27152615971192545 0.14663206947680577 frame=23330_scan=452\n",
      "0.8180661577608143 0.2639100932994063 0.13278201865988126 frame=24928_scan=452\n",
      "0.850691339340992 0.29022494324826303 0.15016853546123685 frame=25421_scan=452\n",
      "0.8254487802383266 0.28967421878995553 0.14529739681890247 frame=23568_scan=452\n",
      "0.7182771789046261 0.22966113984628028 0.11906027940252333 frame=22871_scan=452\n",
      "0.8227808202986486 0.293960048855443 0.15893778810921555 frame=23126_scan=452\n",
      "0.8081010922270657 0.2809423519616006 0.1546260469216829 frame=23517_scan=452\n",
      "0.833782085801472 0.3081134446239454 0.15275534015437084 frame=24333_scan=452\n",
      "0.8053069456699862 0.30007563342997606 0.15366191856800707 frame=23636_scan=452\n",
      "0.8453371721624905 0.28084934095100994 0.14795987223896712 frame=24860_scan=452\n",
      "0.8309001591365115 0.30429668580917457 0.17069120597799764 frame=25115_scan=452\n",
      "0.7006730769230769 0.225625 0.11600961538461538 frame=22888_scan=452\n",
      "0.8111747637824567 0.27869950152518413 0.14850085559110185 frame=25234_scan=452\n",
      "0.8290626610706133 0.2746852220013254 0.1500257712981371 frame=25013_scan=452\n",
      "0.809042783059637 0.28532843560933446 0.13391313742437339 frame=24384_scan=452\n",
      "0.8454596728708403 0.32491648227688835 0.16764284784589353 frame=24282_scan=452\n",
      "0.8570316680449482 0.33482512039694506 0.16928540156637642 frame=25523_scan=452\n",
      "0.8189506656225528 0.27554163403811016 0.14027669015922736 frame=24469_scan=452\n",
      "0.8378367143332225 0.31430828067841704 0.17874958430329232 frame=24027_scan=452\n",
      "0.832967032967033 0.3209863307424283 0.15593674618064862 frame=25608_scan=452\n",
      "0.8233920805676356 0.27264820325017164 0.1399404898146029 frame=24894_scan=452\n",
      "0.812557497700092 0.32946182152713893 0.18129024839006438 frame=24231_scan=452\n",
      "0.8298331015299026 0.28480528511821973 0.1549374130737135 frame=23415_scan=452\n",
      "0.813248794149681 0.2632254551112494 0.1425626264197915 frame=24962_scan=452\n",
      "0.8018640350877193 0.26650219298245614 0.13103070175438597 frame=24452_scan=452\n",
      "0.8264596654846006 0.2865719152263145 0.14645519783318905 frame=23823_scan=452\n",
      "0.7389201390132922 0.22833291533803876 0.11121063380029379 frame=23024_scan=452\n",
      "0.8063794068270845 0.2949542995709756 0.15500839395635144 frame=23925_scan=452\n",
      "0.8461338418862691 0.2760488904299584 0.15841712898751734 frame=24554_scan=452\n",
      "0.7048833793128157 0.19092830783562037 0.08971373293683493 frame=22973_scan=452\n",
      "0.8330324909747292 0.3168262439177523 0.16167006749332916 frame=25489_scan=452\n",
      "0.8271454656116859 0.2842681872056892 0.15437101579267706 frame=23398_scan=452\n",
      "0.82939348912603 0.30627223197802694 0.1826736908460534 frame=24146_scan=452\n",
      "0.7336380190666619 0.2064126825436498 0.10161745277966222 frame=23007_scan=452\n",
      "0.8092421870470227 0.2485649678204905 0.13724125934945208 frame=24656_scan=452\n",
      "0.830817088345085 0.28813770219825796 0.1547905433430112 frame=23449_scan=452\n",
      "0.8183095180431097 0.30423831436183096 0.16333252603535964 frame=23942_scan=452\n",
      "0.8431511431157281 0.2746625742730099 0.15169401487427694 frame=24809_scan=452\n",
      "0.8024064781021898 0.2667655109489051 0.13326870437956204 frame=24435_scan=452\n",
      "0.8522625648363441 0.3460025040243248 0.17680200321945985 frame=23211_scan=452\n",
      "0.8294584837545126 0.30108303249097473 0.1423826714801444 frame=24350_scan=452\n",
      "0.82484366117112 0.30704945992040933 0.18266060261512224 frame=24180_scan=452\n",
      "0.7878150442133146 0.2784464960461221 0.1442873281134354 frame=23075_scan=452\n",
      "0.8169269306614081 0.24399083302243776 0.13185524702872675 frame=24690_scan=452\n",
      "0.7016406115787666 0.19562789898642846 0.09409895207009104 frame=22922_scan=452\n",
      "0.8291270568933069 0.2710997442455243 0.14080972832118901 frame=24486_scan=452\n",
      "0.8320800091613544 0.2910638622743062 0.14745963278237967 frame=25268_scan=452\n",
      "0.8124485698298278 0.2940653698034956 0.1636878312102959 frame=25149_scan=452\n",
      "0.8250757575757576 0.2847727272727273 0.15159090909090908 frame=25030_scan=452\n",
      "0.8214540779888587 0.2779245822025425 0.14690758463076703 frame=25217_scan=452\n",
      "0.8175980325181036 0.2913877123468598 0.14897299266748645 frame=23721_scan=452\n",
      "0.8474941067951215 0.3349902634006354 0.16659833965358203 frame=25540_scan=452\n",
      "0.8299168326109875 0.2906173128733747 0.1568466674475811 frame=23432_scan=452\n",
      "0.8252884094789888 0.2975302986131356 0.1548040481446004 frame=23908_scan=452\n",
      "0.8533818674341827 0.2782104461186828 0.15038516888174044 frame=24843_scan=452\n",
      "0.8398875292067641 0.3219278444418043 0.18518078491940912 frame=24044_scan=452\n",
      "0.8156813280709606 0.25853440208324857 0.13349879969076778 frame=24945_scan=452\n",
      "0.8226448914558853 0.2848038239394543 0.15156343357896834 frame=23534_scan=452\n",
      "0.8279587952077035 0.32706303885343185 0.1661068189452469 frame=25625_scan=452\n",
      "0.829322429906542 0.28516355140186916 0.1466121495327103 frame=23840_scan=452\n",
      "0.8280355034760176 0.31612085173363647 0.16208298718901665 frame=24299_scan=452\n",
      "0.8071442195035557 0.2815182147625405 0.1485245633633961 frame=23313_scan=452\n",
      "0.8385460693153001 0.2757396449704142 0.15494505494505495 frame=24537_scan=452\n",
      "0.8539639495932365 0.2649146594353166 0.14332429414579678 frame=24792_scan=452\n",
      "0.7737102473498233 0.26539458186101295 0.12946996466431096 frame=22820_scan=452\n",
      "0.838803667837861 0.3190933241923044 0.17272259833747536 frame=23177_scan=452\n",
      "0.8283215607130844 0.29579549276824757 0.16915573494786412 frame=25132_scan=452\n",
      "0.8110964332892999 0.2632572183430836 0.14130968107190037 frame=24979_scan=452\n",
      "0.8372161064989211 0.3094759170537249 0.17591339648173207 frame=24078_scan=452\n",
      "0.8525965073529411 0.29580269607843135 0.16004136029411764 frame=25404_scan=452\n",
      "0.7589473684210526 0.24330827067669172 0.12236842105263158 frame=23041_scan=452\n",
      "0.8361272415178408 0.30418903619298054 0.16168145794529054 frame=25081_scan=452\n",
      "0.8532472036764068 0.25583109338420185 0.13951270267926819 frame=24758_scan=452\n",
      "0.8557963313773507 0.34523864528947 0.17506815136533752 frame=23228_scan=452\n",
      "0.8386888352860097 0.32723121984838044 0.16833218470020675 frame=24316_scan=452\n",
      "0.8262836356853053 0.3200111924637411 0.1690062024903232 frame=24265_scan=452\n",
      "0.8240881155718732 0.2913241280229867 0.15735493654721047 frame=23109_scan=452\n",
      "0.7323394718893111 0.249488453668518 0.12462243008866804 frame=22854_scan=452\n",
      "0.820159005757105 0.30415181699107496 0.1627219836120503 frame=23296_scan=452\n",
      "0.8180020375142326 0.2907053394858273 0.15065619943668723 frame=23619_scan=452\n",
      "0.8539568345323741 0.2984765129073212 0.1531104528142192 frame=25319_scan=452\n",
      "0.8342581331711767 0.29997719671632717 0.15593645484949833 frame=25047_scan=452\n",
      "0.8370155924627964 0.2794453755904312 0.16339072578597186 frame=24588_scan=452\n",
      "0.8323457765488183 0.28201329909803147 0.15070116531700573 frame=25438_scan=452\n",
      "0.8167330677290837 0.2871620314857077 0.14841604455962557 frame=25251_scan=452\n",
      "0.8258330959840501 0.3122092471280737 0.1781069021171556 frame=23976_scan=452\n",
      "0.7734396787327793 0.26956327737185565 0.12889731719560488 frame=24401_scan=452\n",
      "0.8117813669622687 0.28064200694608354 0.14778972923761674 frame=25183_scan=452\n",
      "0.8284227000544366 0.2904531845400109 0.1481355470876429 frame=23755_scan=452\n",
      "0.8084701247537754 0.2844386080105056 0.13742613263296127 frame=23653_scan=452\n",
      "0.8522550544323484 0.3411492602783427 0.1717908840770427 frame=23262_scan=452\n",
      "0.8443712969058591 0.31924511740179945 0.16234364713627386 frame=25506_scan=452\n",
      "0.8382802003175767 0.29473555636985466 0.1595619070884736 frame=23143_scan=452\n",
      "0.8107496620036972 0.27092128135088156 0.1423723201721712 frame=23364_scan=452\n",
      "0.8361155986357925 0.2720786214324179 0.15701848860168732 frame=24571_scan=452\n",
      "0.7087403789224394 0.1806542332741267 0.08670071047957371 frame=22956_scan=452\n",
      "0.8330001970665241 0.2894907237971904 0.14985501534303652 frame=23806_scan=452\n",
      "0.7641719472512416 0.2586915567734201 0.11979791060113033 frame=22786_scan=452\n",
      "0.8084247997626817 0.3269652921981608 0.18398101453574606 frame=24214_scan=452\n",
      "0.8129796208771662 0.29237180464501705 0.13538649184326879 frame=24367_scan=452\n",
      "0.815500074305246 0.26731312230643484 0.14667855550601872 frame=24996_scan=452\n",
      "0.838855352287913 0.2701258006543477 0.14497027786737937 frame=24877_scan=452\n",
      "0.8289373452675681 0.277899447724243 0.1492096743477433 frame=23500_scan=452\n",
      "0.8357286524044615 0.289851892484915 0.15037484000731396 frame=25472_scan=452\n",
      "0.8266135136498965 0.3155876267850835 0.16218398344855428 frame=25574_scan=452\n",
      "0.8325406611473196 0.2650460924197052 0.15242792554753098 frame=24622_scan=452\n",
      "0.7278754077659686 0.19600827808762145 0.09260233610438809 frame=22990_scan=452\n",
      "0.8226700603186778 0.28816986855409504 0.15327220110874795 frame=23874_scan=452\n",
      "0.8224771268605763 0.28317174200009104 0.15417178751877647 frame=24503_scan=452\n",
      "0.8302463332079729 0.24717939074840165 0.13444904099285446 frame=24724_scan=452\n",
      "0.8120811488488716 0.2833371324367449 0.15235924321860042 frame=23483_scan=452\n",
      "0.8213239601640304 0.29328433722106834 0.14256803536241147 frame=23585_scan=452\n",
      "0.8451751125879935 0.2996370950111495 0.1577106379257575 frame=25353_scan=452\n"
     ]
    }
   ],
   "source": [
    "# Iterate through content of significant files dir (total 168 TSV files) and pipe files to\n",
    "# perc sig peak calculator.\n",
    "\n",
    "mzml_perc_list = []\n",
    "im_range = 0.05\n",
    "\n",
    "for filepath in os.listdir(MZML_MAPPED_TSV_DIR):\n",
    "    if filepath.endswith(\".tsv\"):\n",
    "        filepath = MZML_MAPPED_TSV_DIR / filepath\n",
    "        # Load significant MZML TSV file.\n",
    "        mz_df = pd.read_csv(filepath, sep=\"\\t\")\n",
    "\n",
    "        # Merged MZML/OSW DF has to be generated every time.\n",
    "        merged_mzml_osw_df = mz_df.merge(sig_qvalue_osw_df, on=\"TRANSITION_ID\")\n",
    "        merged_mzml_osw_df[\"EXP_IM_LEFT\"] = merged_mzml_osw_df[\"EXP_IM\"] - im_range\n",
    "        merged_mzml_osw_df[\"EXP_IM_RIGHT\"] = merged_mzml_osw_df[\"EXP_IM\"] + im_range\n",
    "\n",
    "        mz_perc, mz_rt_perc, mz_rt_im_perc, exp_id = get_perc_peaks_found_in_mzml(\n",
    "            mz_df, filepath, merged_mzml_osw_df, exps\n",
    "        )\n",
    "        print(mz_perc, mz_rt_perc, mz_rt_im_perc, exp_id)\n",
    "\n",
    "        mzml_perc_list.append(tuple([mz_perc, mz_rt_perc, mz_rt_im_perc, exp_id]))\n"
   ]
  },
  {
   "cell_type": "code",
   "execution_count": 31,
   "id": "8ac6fd9a-b00b-46da-9890-60c9bbc51922",
   "metadata": {},
   "outputs": [],
   "source": [
    "# Get all percentage features and RT - sort by RT\n",
    "\n",
    "\n",
    "def get_exp_rt_from_frame_id(exps, frame_id):\n",
    "    # Get additional attributes from MZML experiment\n",
    "    for exp in exps:\n",
    "        if exp.getNativeID() == frame_id:\n",
    "            return exp.getRT()\n",
    "\n",
    "\n",
    "# Generate summary percentage array for export as JSON (1 cell down)\n",
    "summary = []\n",
    "for run in mzml_perc_list:\n",
    "    frame_id = run[-1]\n",
    "    run = list(run)\n",
    "    # Append experiment RT value\n",
    "    run.append(get_exp_rt_from_frame_id(exps, frame_id))\n",
    "    summary.append(run)\n",
    "\n",
    "# Sort by experiment RT value\n",
    "summary = sorted(summary, key=lambda x: x[-1])\n",
    "# Unpack value for testing\n",
    "# mz_perc, mz_rt_perc, mz_rt_im_perc, exp_id, exp_rt = zip(*summary)\n"
   ]
  },
  {
   "cell_type": "code",
   "execution_count": 32,
   "id": "c10a9dc5-610e-431e-875f-5caacdbc6cc6",
   "metadata": {},
   "outputs": [],
   "source": [
    "# Export `mzml_perc_list` as JSON for figure building\n",
    "\n",
    "cumulative_json = []\n",
    "for item in summary:\n",
    "    export_json = {\n",
    "        \"rt\": \"\",\n",
    "        \"exp_id\": \"\",\n",
    "        \"mz_perc_identified\": \"\",\n",
    "        \"mz_perc_rt_identified\": \"\",\n",
    "        \"mz_perc_rt_im_identified\": \"\",\n",
    "    }\n",
    "    export_json[\"rt\"] = item[-1]\n",
    "    export_json[\"exp_id\"] = item[-2]\n",
    "    export_json[\"mz_perc_identified\"] = item[0]\n",
    "    export_json[\"mz_perc_rt_identified\"] = item[1]\n",
    "    export_json[\"mz_perc_rt_im_identified\"] = item[2]\n",
    "    cumulative_json.append(export_json)\n",
    "\n",
    "# Export cumulated JSON to file\n",
    "with open(FIG_DATA_DIR / \"20220201_perc_peaks_identified_1330_0.json\", \"w\") as f:\n",
    "    json.dump(cumulative_json, f)\n"
   ]
  },
  {
   "cell_type": "markdown",
   "id": "1ca19ecd-7c41-49e8-aaf8-704345e9803e",
   "metadata": {},
   "source": [
    "### For generating data to compare insignificant peaks vs significant peaks"
   ]
  },
  {
   "cell_type": "code",
   "execution_count": 44,
   "id": "84499664-0847-49f2-8660-47db46e96dc6",
   "metadata": {},
   "outputs": [],
   "source": [
    "all_qvalue_osw = TSV_DIR / \"20220127_qval_null_feature_ftrans_trans_score_ms2.tsv\"\n",
    "nonsig_qvalue_osw = TSV_DIR / \"20220127_nonsig_qval_null_feature_ftrans_trans_score_ms2.tsv\"\n"
   ]
  },
  {
   "cell_type": "code",
   "execution_count": 42,
   "id": "22b692c7-8c6a-4715-b35a-df3e9c1c8099",
   "metadata": {},
   "outputs": [],
   "source": [
    "def read_chunk_tsv(input_path, chunksize=1_000_000):\n",
    "    # DON'T USE IF YOU ARE PLANNING TO MERGE TABLES ON A KEY\n",
    "    print(f\"Reading {input_path} as TSV chunk\")\n",
    "    with pd.read_csv(input_path, sep=\"\\t\", chunksize=chunksize) as reader:\n",
    "        yield from reader\n",
    "\n",
    "\n",
    "def export_as_tsv(df, output_path):\n",
    "    print(\"Exporting dataframe as TSV...\")\n",
    "    df.to_csv(output_path, sep=\"\\t\", index=False)\n"
   ]
  },
  {
   "cell_type": "code",
   "execution_count": 41,
   "id": "addb1204-1520-48a8-9fcc-a0bc31714b49",
   "metadata": {},
   "outputs": [
    {
     "name": "stdout",
     "output_type": "stream",
     "text": [
      "Reading /Users/irahorecka/Desktop/Harddrive_Desktop/PhD/University of Toronto/Rotations/Rost Lab/roest-ms/data/tsv/20220127_qval_null_feature_ftrans_trans_score_ms2.tsv as TSV chunk\n",
      "Reading chunk #31 with shape (66276, 26).).\r"
     ]
    }
   ],
   "source": [
    "all_qvalue_osw_df = read_chunk_tsv(all_qvalue_osw)\n",
    "nonsig_qvalue_osw_df = pd.DataFrame()\n",
    "\n",
    "## Completed on 2021-01-31 - don't run again.\n",
    "# for idx, chunk in enumerate(all_qvalue_osw_df):\n",
    "#     print(f\"Reading chunk #{idx + 1} with shape {chunk.shape}.\", end=\"\\r\")\n",
    "#     nonsig_qvalue_osw_df = pd.concat([nonsig_qvalue_osw_df, chunk[chunk[\"QVALUE\"] >= 0.01]])\n"
   ]
  },
  {
   "cell_type": "code",
   "execution_count": 45,
   "id": "efbbf798-3bcf-4cfa-8595-33edbace9696",
   "metadata": {},
   "outputs": [
    {
     "name": "stdout",
     "output_type": "stream",
     "text": [
      "Exporting dataframe as TSV...\n"
     ]
    }
   ],
   "source": [
    "# Export nonsignificant peaks found in OSW file - delete when project is complete...\n",
    "export_as_tsv(nonsig_qvalue_osw_df, nonsig_qvalue_osw)\n"
   ]
  },
  {
   "cell_type": "code",
   "execution_count": 20,
   "id": "30678951-3f9a-4369-a95d-fc96632cade8",
   "metadata": {},
   "outputs": [
    {
     "name": "stdout",
     "output_type": "stream",
     "text": [
      "NonFound peak perc: 0.8657335666083479\n",
      "Found peak perc: 0.13426643339165212\n"
     ]
    }
   ],
   "source": [
    "# Finding cumulative intensities for peaks that were found in MZML file\n",
    "# Define function to gather percentage significant peaks in various settings such as:\n",
    "# - % peaks found in a significant file compared to MZML object\n",
    "# - % peaks found using RT range in a significant file compared to MZML object\n",
    "# - % peaks found using RT and IM range in a significant file compared to MZML object\n",
    "\n",
    "from collections import Counter\n",
    "\n",
    "\n",
    "def get_mz_int_peaks_nonfound_in_mzml(\n",
    "    reduced_df, reduced_df_filename, merged_df, mzml_exps, include_rt=False, include_rt_im=False\n",
    "):\n",
    "    def round_(x):\n",
    "        \"\"\"For floating point conversion - nearly impossible to do comparison otherwise.\"\"\"\n",
    "        return str(x)[:8]\n",
    "\n",
    "    # Get experiment ID from filename\n",
    "    exp_name_tsv = \"frame\" + str(reduced_df_filename).split(\"frame\")[-1].split(\"_qvalue\")[0]\n",
    "    # Iterate through MZML experiments and match with filename.\n",
    "    for mz_idx, exp in enumerate(mzml_exps):\n",
    "        if exp_name_tsv == exp.getNativeID():\n",
    "            # If filename match, extract attributes from MZML experiment\n",
    "            mz, int_ = exp.get_peaks()\n",
    "            rt = exp.getRT()\n",
    "            im = list(exp.getFloatDataArrays()[0].get_data())\n",
    "            peak_count = map(round_, mz)\n",
    "            break\n",
    "\n",
    "    found_mz_peaks = dict(Counter(set(map(round_, reduced_df[\"MZ\"]))))\n",
    "\n",
    "    if include_rt is True or include_rt_im is True:\n",
    "        ## Filter intensity between left and right RT window\n",
    "        rt_window_df = merged_df[(merged_df[\"LEFT_WIDTH\"] < rt) & (merged_df[\"RIGHT_WIDTH\"] > rt)]\n",
    "        found_mz_peaks = dict(Counter(set(map(round_, rt_window_df[\"MZ\"]))))\n",
    "\n",
    "    if include_rt_im is True:\n",
    "        ## Filter intensity between left and right window\n",
    "        ## Refactor IM window\n",
    "        rt_im_window_df = rt_window_df[\n",
    "            (rt_window_df[\"EXP_IM_LEFT\"] < rt_window_df[\"IM\"]) & (rt_window_df[\"EXP_IM_RIGHT\"] > rt_window_df[\"IM\"])\n",
    "        ]\n",
    "        found_mz_peaks = dict(Counter(set(map(round_, rt_im_window_df[\"MZ\"]))))\n",
    "\n",
    "    summary_dict = {\n",
    "        # MZ\n",
    "        \"found_mz\": list(),\n",
    "        \"nonfound_mz\": list(),\n",
    "        # Intensity\n",
    "        \"found_int\": list(),\n",
    "        \"nonfound_int\": list(),\n",
    "        # IM\n",
    "        \"found_im\": list(),\n",
    "        \"nonfound_im\": list(),\n",
    "        # ExpID\n",
    "        \"exp_id\": \"\",\n",
    "    }\n",
    "    \n",
    "    count = 0\n",
    "    for idx, peak in enumerate(peak_count):\n",
    "        try:\n",
    "            # Raises KeyError\n",
    "            found_mz_peaks[peak]\n",
    "            summary_dict['found_mz'].append(mz[idx])\n",
    "            summary_dict['found_int'].append(int_[idx])\n",
    "            summary_dict['found_im'].append(im[idx])\n",
    "        except KeyError:\n",
    "            count += 1\n",
    "            summary_dict['nonfound_mz'].append(mz[idx])\n",
    "            summary_dict['nonfound_int'].append(int_[idx])\n",
    "            summary_dict['nonfound_im'].append(im[idx])\n",
    "    summary_dict['exp_id'] = exp.getNativeID()\n",
    "    print(\"NonFound peak perc:\", count / len(mz))\n",
    "    print(\"Found peak perc:\", 1 - count / len(mz))\n",
    "    return summary_dict\n",
    "\n",
    "\n",
    "# BUILD TABLE\n",
    "mzml_exp = MZML_MAPPED_TSV_DIR / \"merged_20220127_frame=24707_scan=452_qvalue_01.tsv\"\n",
    "mzml_exp_df = pd.read_csv(mzml_exp, sep=\"\\t\")\n",
    "merged_mzml_osw_df = mzml_exp_df.merge(sig_qvalue_osw_df, on=\"TRANSITION_ID\")\n",
    "# Generate IM range for filtering - +/- 0.05\n",
    "im_range = 0.05\n",
    "merged_mzml_osw_df[\"EXP_IM_LEFT\"] = merged_mzml_osw_df[\"EXP_IM\"] - im_range\n",
    "merged_mzml_osw_df[\"EXP_IM_RIGHT\"] = merged_mzml_osw_df[\"EXP_IM\"] + im_range\n",
    "\n",
    "\n",
    "summary = get_mz_int_peaks_nonfound_in_mzml(\n",
    "    mzml_exp_df, mzml_exp, merged_mzml_osw_df, exps, include_rt_im=True\n",
    ")\n",
    "found_mz = summary['found_mz']\n",
    "found_int = summary['found_int']\n",
    "found_im = summary['found_im']\n",
    "nonfound_mz = summary['nonfound_mz']\n",
    "nonfound_int = summary['nonfound_int']\n",
    "nonfound_im = summary['nonfound_im']\n",
    "exp_id = summary['exp_id']\n"
   ]
  },
  {
   "cell_type": "code",
   "execution_count": 33,
   "id": "e82130e1-a83d-41b6-b5a7-1fec3c4cba6f",
   "metadata": {},
   "outputs": [
    {
     "data": {
      "text/plain": [
       "(551770, 36)"
      ]
     },
     "execution_count": 33,
     "metadata": {},
     "output_type": "execute_result"
    }
   ],
   "source": [
    "merged_mzml_osw_df[\n",
    "    (merged_mzml_osw_df[\"EXP_IM_LEFT\"] < merged_mzml_osw_df[\"IM\"]) & (merged_mzml_osw_df[\"EXP_IM_RIGHT\"] > merged_mzml_osw_df[\"IM\"])\n",
    "].shape\n",
    "merged_mzml_osw_df.shape"
   ]
  },
  {
   "cell_type": "code",
   "execution_count": 22,
   "id": "d654e1a1-02d6-4bf6-9993-8c1dbfce6449",
   "metadata": {},
   "outputs": [],
   "source": [
    "def get_10_150_rt_data(rt_arr):\n",
    "    return [rt for rt in rt_arr if rt < 150 and rt > 11]\n"
   ]
  },
  {
   "cell_type": "code",
   "execution_count": 23,
   "id": "ca352277-12aa-4209-ba7d-1658c8b68a60",
   "metadata": {},
   "outputs": [
    {
     "data": {
      "image/png": "[encoded data removed]",
      "text/plain": [
       "<Figure size 432x288 with 1 Axes>"
      ]
     },
     "metadata": {
      "needs_background": "light"
     },
     "output_type": "display_data"
    }
   ],
   "source": [
    "found_int_10_150 = list(map(str, get_10_150_rt_data(found_int)))\n",
    "nonfound_int_10_150 = list(map(str, get_10_150_rt_data(nonfound_int)))\n",
    "\n",
    "export_json = {\n",
    "    \"found_intensity_perc_range_10_150\": found_int_10_150,\n",
    "    \"nonfound_intensity_perc_range_10_150\": nonfound_int_10_150,\n",
    "}\n",
    "\n",
    "# Change filename as you fiddle with binning of peaks (e.g. MZ, MZ-RT, etc...)\n",
    "# with open(FIG_DATA_DIR / \"20220131_MZ_RT_IM_perc_intensity_found_nonfound_1330_0.json\", \"w\") as f:\n",
    "#     json.dump(export_json, f)\n",
    "\n",
    "\n",
    "# Demo purposes\n",
    "found_int_10_150 = get_10_150_rt_data(found_int)\n",
    "nonfound_int_10_150 = get_10_150_rt_data(nonfound_int)\n",
    "plt.hist([nonfound_int_10_150, found_int_10_150], stacked=True, density=True, bins=139)\n",
    "plt.show()\n"
   ]
  },
  {
   "cell_type": "code",
   "execution_count": 63,
   "id": "63d07ee5-6302-4f97-acf5-95c4c7424922",
   "metadata": {},
   "outputs": [],
   "source": [
    "def yield_perc_int_window_found(found_int, nonfound_int):\n",
    "    joined_int = found_int + nonfound_int\n",
    "    prev_perc_found = 0\n",
    "    # Iterate through window - 1 intensity unit at a time\n",
    "    for i in range(math.ceil(max(joined_int)) + 1):\n",
    "        range_found_int = []\n",
    "        for int_ in found_int:\n",
    "            # Is the current found intensity within window?\n",
    "            if int_ > i - 1 and int_ <= i:\n",
    "                range_found_int.append(int_)\n",
    "\n",
    "        range_nonfound_int = []\n",
    "        for int_ in nonfound_int:\n",
    "            # Is the current nonfound intensity within window?\n",
    "            if int_ > i - 1 and int_ <= i:\n",
    "                range_nonfound_int.append(int_)\n",
    "\n",
    "        try:\n",
    "            # Tabulate percent found for intensity\n",
    "            perc_found = len(range_found_int) / (len(range_found_int) + len(range_nonfound_int))\n",
    "            prev_perc_found = copy(perc_found)\n",
    "            yield (i, perc_found)\n",
    "        except ZeroDivisionError:\n",
    "            # Previous iteration's perc_found\n",
    "            yield (i, prev_perc_found)\n"
   ]
  },
  {
   "cell_type": "code",
   "execution_count": 64,
   "id": "2537fc8e-c51b-44a7-9c4c-65c89f7875bf",
   "metadata": {},
   "outputs": [],
   "source": [
    "rt_window = []\n",
    "perc_found_in_rt_window = []\n",
    "for idx, item in yield_perc_int_window_found(found_int_10_150, nonfound_int_10_150):\n",
    "    if item != 0:\n",
    "        rt_window.append(idx)\n",
    "        perc_found_in_rt_window.append(item)\n",
    "\n",
    "export_json = {\n",
    "    \"intensity_window_range_10_150\": rt_window,\n",
    "    \"perc_found_intensity_range_10_150\": perc_found_in_rt_window,\n",
    "}\n",
    "\n",
    "# Change filename as you fiddle with binning of peaks (e.g. MZ, MZ-RT, etc...)\n",
    "# with open(FIG_DATA_DIR / \"20220131_int_window_MZ_RT_IM_perc_intensity_found_nonfound_1330_0.json\", \"w\") as f:\n",
    "#     json.dump(export_json, f)\n"
   ]
  },
  {
   "cell_type": "code",
   "execution_count": 26,
   "id": "a73fa1b7-0310-41dc-a026-11bb443d8115",
   "metadata": {},
   "outputs": [
    {
     "data": {
      "image/png": "[encoded data removed]",
      "text/plain": [
       "<Figure size 432x288 with 1 Axes>"
      ]
     },
     "metadata": {
      "needs_background": "light"
     },
     "output_type": "display_data"
    }
   ],
   "source": [
    "plt.plot(rt_window, perc_found_in_rt_window)\n",
    "plt.show()\n"
   ]
  },
  {
   "cell_type": "code",
   "execution_count": 27,
   "id": "307f66e2-b249-4e81-9661-1e665ba02b6a",
   "metadata": {},
   "outputs": [],
   "source": [
    "# Set up all data again for analysis\n",
    "# Generate IM range for filtering - +/- 0.05\n",
    "merged_mzml_osw_df = mzml_exp_df.merge(sig_qvalue_osw_df, on=\"TRANSITION_ID\")\n",
    "\n",
    "im_range = 0.05\n",
    "merged_mzml_osw_df[\"EXP_IM_LEFT\"] = merged_mzml_osw_df[\"EXP_IM\"] - im_range\n",
    "merged_mzml_osw_df[\"EXP_IM_RIGHT\"] = merged_mzml_osw_df[\"EXP_IM\"] + im_range\n"
   ]
  },
  {
   "cell_type": "code",
   "execution_count": 38,
   "id": "80c5825d-1688-42e6-b5da-1c7be9d5641e",
   "metadata": {},
   "outputs": [
    {
     "name": "stdout",
     "output_type": "stream",
     "text": [
      "NonFound peak perc: 0.8307145984336236\n",
      "Found peak perc: 0.1692854015663764\n"
     ]
    }
   ],
   "source": [
    "# Now, find the most significant RT window and use this data for export\n",
    "def get_found_nonfound_int(mzml_exp_path, sig_qvalue_osw_df, **kwargs):\n",
    "    mzml_exp_df = pd.read_csv(mzml_exp_path, sep=\"\\t\")\n",
    "    merged_mzml_osw_df = mzml_exp_df.merge(sig_qvalue_osw_df, on=\"TRANSITION_ID\")\n",
    "    im_range = 0.05\n",
    "    merged_mzml_osw_df[\"EXP_IM_LEFT\"] = merged_mzml_osw_df[\"EXP_IM\"] - im_range\n",
    "    merged_mzml_osw_df[\"EXP_IM_RIGHT\"] = merged_mzml_osw_df[\"EXP_IM\"] + im_range\n",
    "\n",
    "    summary = get_mz_int_peaks_nonfound_in_mzml(\n",
    "        mzml_exp_df, mzml_exp_path, merged_mzml_osw_df, exps, **kwargs\n",
    "    )\n",
    "    found_mz = summary['found_mz']\n",
    "    found_int = summary['found_int']\n",
    "    found_im = summary['found_im']\n",
    "    nonfound_mz = summary['nonfound_mz']\n",
    "    nonfound_int = summary['nonfound_int']\n",
    "    nonfound_im = summary['nonfound_im']\n",
    "    exp_id = summary['exp_id']\n",
    "\n",
    "    # Bin intensity range between 10 and 150\n",
    "    found_int_10_150 = get_10_150_rt_data(found_int)\n",
    "    nonfound_int_10_150 = get_10_150_rt_data(nonfound_int)\n",
    "\n",
    "    return found_int_10_150, nonfound_int_10_150\n",
    "\n",
    "\n",
    "def export_rt_intensity_dist(mzml_exp_path, merged_mzml_osw_df, out_json_path, **kwargs):\n",
    "    found_int_10_150, nonfound_int_10_150 = get_found_nonfound_int(\n",
    "        mzml_exp_path, merged_mzml_osw_df, **kwargs\n",
    "    )\n",
    "    found_int_10_150 = list(map(str, found_int_10_150))\n",
    "    nonfound_int_10_150 = list(map(str, nonfound_int_10_150))\n",
    "    export_json = {\n",
    "        \"found_intensity_perc_range_10_150\": found_int_10_150,\n",
    "        \"nonfound_intensity_perc_range_10_150\": nonfound_int_10_150,\n",
    "    }\n",
    "    # Change filename as you fiddle with binning of peaks (e.g. MZ, MZ-RT, etc...)\n",
    "    with open(FIG_DATA_DIR / out_json_path, \"w\") as f:\n",
    "        json.dump(export_json, f)\n",
    "\n",
    "\n",
    "def export_rt_intensity_window(mzml_exp_path, merged_mzml_osw_df, out_json_path, **kwargs):\n",
    "    found_int_10_150, nonfound_int_10_150 = get_found_nonfound_int(\n",
    "        mzml_exp_path, merged_mzml_osw_df, **kwargs\n",
    "    )\n",
    "    rt_window = []\n",
    "    perc_found_in_rt_window = []\n",
    "    for idx, item in yield_perc_int_window_found(found_int_10_150, nonfound_int_10_150):\n",
    "        if item != 0:\n",
    "            rt_window.append(idx)\n",
    "            perc_found_in_rt_window.append(item)\n",
    "\n",
    "    export_json = {\n",
    "        \"intensity_window_range_10_150\": rt_window,\n",
    "        \"perc_found_intensity_range_10_150\": perc_found_in_rt_window,\n",
    "    }\n",
    "\n",
    "    # Change filename as you fiddle with binning of peaks (e.g. MZ, MZ-RT, etc...)\n",
    "    with open(FIG_DATA_DIR / out_json_path, \"w\") as f:\n",
    "        json.dump(export_json, f)\n",
    "\n",
    "\n",
    "mzml_exp = MZML_MAPPED_TSV_DIR / \"merged_20220128_frame=25523_scan=452_qvalue_01.tsv\"\n",
    "# export_rt_intensity_dist(mzml_exp, merged_mzml_osw_df, '20220201_RT_2688.630046_frame=25523_scan=452_MZ_RT_IM_intensity.json', include_rt_im=True)\n",
    "export_rt_intensity_window(\n",
    "    mzml_exp,\n",
    "    sig_qvalue_osw_df,\n",
    "    \"20220201_RT_2688.630046_frame=25523_scan=452_MZ_RT_IM_intensity_window.json\",\n",
    "    include_rt_im=True\n",
    ")\n"
   ]
  },
  {
   "cell_type": "markdown",
   "id": "dab26d9b-707e-4bc3-b60e-8d35e1ec33da",
   "metadata": {},
   "source": [
    "### Mess with IM"
   ]
  },
  {
   "cell_type": "code",
   "execution_count": 121,
   "id": "78ed7090-e202-4c95-a96c-0099474b8e0e",
   "metadata": {},
   "outputs": [
    {
     "name": "stdout",
     "output_type": "stream",
     "text": [
      "NonFound peak perc: 0.8307145984336236\n",
      "Found peak perc: 0.1692854015663764\n"
     ]
    }
   ],
   "source": [
    "def get_found_nonfound(mzml_exp_path, sig_qvalue_osw_df, **kwargs):\n",
    "    mzml_exp_df = pd.read_csv(mzml_exp_path, sep=\"\\t\")\n",
    "    merged_mzml_osw_df = mzml_exp_df.merge(sig_qvalue_osw_df, on=\"TRANSITION_ID\")\n",
    "    im_range = 0.05\n",
    "    merged_mzml_osw_df[\"EXP_IM_LEFT\"] = merged_mzml_osw_df[\"EXP_IM\"] - im_range\n",
    "    merged_mzml_osw_df[\"EXP_IM_RIGHT\"] = merged_mzml_osw_df[\"EXP_IM\"] + im_range\n",
    "\n",
    "    summary = get_mz_int_peaks_nonfound_in_mzml(\n",
    "        mzml_exp_df, mzml_exp_path, merged_mzml_osw_df, exps, **kwargs\n",
    "    )\n",
    "    found_mz = summary['found_mz']\n",
    "    found_int = summary['found_int']\n",
    "    found_im = summary['found_im']\n",
    "    nonfound_mz = summary['nonfound_mz']\n",
    "    nonfound_int = summary['nonfound_int']\n",
    "    nonfound_im = summary['nonfound_im']\n",
    "    exp_id = summary['exp_id']\n",
    "    return summary\n",
    "\n",
    "\n",
    "def export_perc_im(summary_dict, out_json_path):\n",
    "    export_json = {\n",
    "        \"found_ion_mobility_perc\": list(map(str, summary_dict['found_im'])),\n",
    "        \"nonfound_ion_mobility_perc\": list(map(str, summary_dict['nonfound_im'])),\n",
    "    }\n",
    "    # Change filename as you fiddle with binning of peaks (e.g. MZ, MZ-RT, etc...)\n",
    "    with open(FIG_DATA_DIR / out_json_path, \"w\") as f:\n",
    "        json.dump(export_json, f)\n",
    "\n",
    "mzml_exp = MZML_MAPPED_TSV_DIR / \"merged_20220128_frame=25523_scan=452_qvalue_01.tsv\"\n",
    "summary_dict = get_found_nonfound(\n",
    "    mzml_exp,\n",
    "    sig_qvalue_osw_df,\n",
    "    # Change here...\n",
    "    include_rt_im=True\n",
    ")\n",
    "\n",
    "output_json = '20220201_RT_2688.630046_frame=25523_scan=452_MZ_RT_IM_ion_mobility.json'\n",
    "export_perc_im(summary_dict, output_json)"
   ]
  },
  {
   "cell_type": "code",
   "execution_count": 122,
   "id": "a362463f-5cce-4f78-82b2-0dd23d28c2ed",
   "metadata": {},
   "outputs": [],
   "source": [
    "found_im = summary_dict['found_im']\n",
    "nonfound_im = summary_dict['nonfound_im']"
   ]
  },
  {
   "cell_type": "code",
   "execution_count": 123,
   "id": "62d3acb7-5d0f-41cc-a86c-d3208a18fa4a",
   "metadata": {},
   "outputs": [
    {
     "data": {
      "image/png": "[encoded data removed]",
      "text/plain": [
       "<Figure size 432x288 with 1 Axes>"
      ]
     },
     "metadata": {
      "needs_background": "light"
     },
     "output_type": "display_data"
    }
   ],
   "source": [
    "plt.hist([nonfound_im, found_im], bins=142, stacked=True, label=['NF', 'F'])\n",
    "plt.legend()\n",
    "plt.show()"
   ]
  },
  {
   "cell_type": "code",
   "execution_count": 132,
   "id": "ec1a8e86-300e-4f0f-a9fb-aaadf2bf9497",
   "metadata": {},
   "outputs": [
    {
     "name": "stdout",
     "output_type": "stream",
     "text": [
      "NonFound peak perc: 0.8307145984336236\n",
      "Found peak perc: 0.1692854015663764\n"
     ]
    }
   ],
   "source": [
    "def yield_perc_im_window_found(found_im, nonfound_im):\n",
    "    # Roundng to get more precision\n",
    "    scale = 500\n",
    "    found_im = [scale * im for im in found_im]\n",
    "    nonfound_im = [scale * im for im in nonfound_im]\n",
    "    joined_im = found_im + nonfound_im\n",
    "    prev_perc_found = 0\n",
    "    # Iterate through window - 0.01 IM unit at a time\n",
    "    for i in range(math.floor(min(joined_im)), math.ceil(max(joined_im)) + 1):\n",
    "        range_found_int = []\n",
    "        for im_ in found_im:\n",
    "            # Is the current found intensity within window?\n",
    "            if im_ > i - 1 and im_ <= i:\n",
    "                range_found_int.append(im_)\n",
    "\n",
    "        range_nonfound_int = []\n",
    "        for im_ in nonfound_im:\n",
    "            # Is the current nonfound intensity within window?\n",
    "            if im_ > i - 1 and im_ <= i:\n",
    "                range_nonfound_int.append(im_)\n",
    "\n",
    "        try:\n",
    "            # Tabulate percent found for intensity\n",
    "            perc_found = len(range_found_int) / (len(range_found_int) + len(range_nonfound_int))\n",
    "            prev_perc_found = copy(perc_found)\n",
    "            yield (i/scale, perc_found)\n",
    "        except ZeroDivisionError:\n",
    "            # Previous iteration's perc_found\n",
    "            yield (i/scale, prev_perc_found)\n",
    "\n",
    "            \n",
    "def export_window_im(windows, perc_in_window, out_json_path):\n",
    "    export_json = {\n",
    "        \"ion_mobility_window\": list(map(str, windows)),\n",
    "        \"perc_nonfound_ion_mobility_window\": list(map(str, perc_in_window)),\n",
    "    }\n",
    "    # Change filename as you fiddle with binning of peaks (e.g. MZ, MZ-RT, etc...)\n",
    "    with open(FIG_DATA_DIR / out_json_path, \"w\") as f:\n",
    "        json.dump(export_json, f)\n",
    "\n",
    "        \n",
    "mzml_exp = MZML_MAPPED_TSV_DIR / \"merged_20220128_frame=25523_scan=452_qvalue_01.tsv\"\n",
    "summary_dict = get_found_nonfound(\n",
    "    mzml_exp,\n",
    "    sig_qvalue_osw_df,\n",
    "    # Change here...\n",
    "    include_rt_im=True\n",
    ")\n",
    "found_im = summary_dict['found_im']\n",
    "nonfound_im = summary_dict['nonfound_im']\n",
    "            \n",
    "window = []\n",
    "perc_in_window = []\n",
    "for x, im in yield_perc_im_window_found(found_im, nonfound_im):\n",
    "    window.append(x)\n",
    "    perc_in_window.append(im)\n",
    "\n",
    "# Change here...\n",
    "output_json = '20220201_RT_2688.630046_frame=25523_scan=452_MZ_RT_IM_ion_mobility_window.json'\n",
    "export_window_im(window, perc_in_window, output_json)"
   ]
  },
  {
   "cell_type": "code",
   "execution_count": 125,
   "id": "e4d2a0d2-fb52-47f2-96f1-b079f28b78a2",
   "metadata": {},
   "outputs": [
    {
     "data": {
      "text/plain": [
       "[<matplotlib.lines.Line2D at 0x7fef49b32e50>]"
      ]
     },
     "execution_count": 125,
     "metadata": {},
     "output_type": "execute_result"
    },
    {
     "data": {
      "image/png": "[encoded data removed]",
      "text/plain": [
       "<Figure size 432x288 with 1 Axes>"
      ]
     },
     "metadata": {
      "needs_background": "light"
     },
     "output_type": "display_data"
    }
   ],
   "source": [
    "plt.plot(x_axis, y_axis)"
   ]
  },
  {
   "cell_type": "markdown",
   "id": "8790c9c3-7449-4ada-ad8e-241e328b88d2",
   "metadata": {},
   "source": [
    "### Mess with MZ"
   ]
  },
  {
   "cell_type": "code",
   "execution_count": 143,
   "id": "9c681080-49aa-4c69-8301-994997488875",
   "metadata": {},
   "outputs": [
    {
     "name": "stdout",
     "output_type": "stream",
     "text": [
      "NonFound peak perc: 0.14296833195505182\n",
      "Found peak perc: 0.8570316680449481\n"
     ]
    }
   ],
   "source": [
    "mzml_exp = MZML_MAPPED_TSV_DIR / \"merged_20220128_frame=25523_scan=452_qvalue_01.tsv\"\n",
    "summary_dict = get_found_nonfound(\n",
    "    mzml_exp,\n",
    "    sig_qvalue_osw_df,\n",
    "    # Change here...\n",
    "    include_rt_im=False\n",
    ")\n",
    "\n",
    "found_mz = summary_dict['found_mz']\n",
    "nonfound_mz = summary_dict['nonfound_mz']"
   ]
  },
  {
   "cell_type": "code",
   "execution_count": 144,
   "id": "4d698239-79e5-42de-aac8-acae27cdfa3c",
   "metadata": {},
   "outputs": [
    {
     "data": {
      "image/png": "[encoded data removed]",
      "text/plain": [
       "<Figure size 432x288 with 1 Axes>"
      ]
     },
     "metadata": {
      "needs_background": "light"
     },
     "output_type": "display_data"
    }
   ],
   "source": [
    "plt.hist([nonfound_mz, found_mz], bins=142, stacked=True, label=['NF', 'F'])\n",
    "plt.legend()\n",
    "plt.show()"
   ]
  },
  {
   "cell_type": "code",
   "execution_count": 147,
   "id": "ef35ac09-e81b-4d7f-bdd3-85853918c337",
   "metadata": {},
   "outputs": [
    {
     "name": "stdout",
     "output_type": "stream",
     "text": [
      "NonFound peak perc: 0.8307145984336236\n",
      "Found peak perc: 0.1692854015663764\n"
     ]
    }
   ],
   "source": [
    "def export_perc_im(summary_dict, out_json_path):\n",
    "    export_json = {\n",
    "        \"found_mass_to_charge_perc\": list(map(str, summary_dict['found_mz'])),\n",
    "        \"nonfound_mass_to_charge_perc\": list(map(str, summary_dict['nonfound_mz'])),\n",
    "    }\n",
    "    # Change filename as you fiddle with binning of peaks (e.g. MZ, MZ-RT, etc...)\n",
    "    with open(FIG_DATA_DIR / out_json_path, \"w\") as f:\n",
    "        json.dump(export_json, f)\n",
    "\n",
    "mzml_exp = MZML_MAPPED_TSV_DIR / \"merged_20220128_frame=25523_scan=452_qvalue_01.tsv\"\n",
    "summary_dict = get_found_nonfound(\n",
    "    mzml_exp,\n",
    "    sig_qvalue_osw_df,\n",
    "    # Change here...\n",
    "    include_rt_im=True\n",
    ")\n",
    "\n",
    "output_json = '20220201_RT_2688.630046_frame=25523_scan=452_MZ_RT_IM_mass_to_charge.json'\n",
    "export_perc_im(summary_dict, output_json)"
   ]
  },
  {
   "cell_type": "code",
   "execution_count": 167,
   "id": "93415c77-3a2f-425d-a919-c4815059bab5",
   "metadata": {},
   "outputs": [
    {
     "name": "stdout",
     "output_type": "stream",
     "text": [
      "NonFound peak perc: 0.8307145984336236\n",
      "Found peak perc: 0.1692854015663764\n"
     ]
    }
   ],
   "source": [
    "def yield_perc_mz_window_found(found_mz, nonfound_mz):\n",
    "    # Roundng to get more precision\n",
    "    scale = 10\n",
    "    found_mz = [im / scale for im in found_mz]\n",
    "    nonfound_mz = [im / scale for im in nonfound_mz]\n",
    "    joined_mz = found_mz + nonfound_mz\n",
    "    prev_perc_found = 0\n",
    "    # Iterate through window - 5 MZ unit at a time\n",
    "    for i in range(math.floor(min(joined_mz)), math.ceil(max(joined_mz)) + 1):\n",
    "        range_found_mz = []\n",
    "        for mz_ in found_mz:\n",
    "            # Is the current found mz within window?\n",
    "            if mz_ > i - 1 and mz_ <= i:\n",
    "                range_found_mz.append(mz_)\n",
    "\n",
    "        range_nonfound_int = []\n",
    "        for mz_ in nonfound_mz:\n",
    "            # Is the current nonfound mz within window?\n",
    "            if mz_ > i - 1 and mz_ <= i:\n",
    "                range_nonfound_int.append(mz_)\n",
    "\n",
    "        try:\n",
    "            # Tabulate percent found for mz\n",
    "            perc_found = len(range_found_mz) / (len(range_found_mz) + len(range_nonfound_int))\n",
    "            prev_perc_found = copy(perc_found)\n",
    "            yield (i*scale, perc_found)\n",
    "        except ZeroDivisionError:\n",
    "            # Previous iteration's perc_found\n",
    "            yield (i*scale, prev_perc_found)\n",
    "            \n",
    "def export_window_mz(windows, perc_in_window, out_json_path):\n",
    "    export_json = {\n",
    "        \"mass_to_charge_window\": list(map(str, windows)),\n",
    "        \"perc_nonfound_mass_to_charge_window\": list(map(str, perc_in_window)),\n",
    "    }\n",
    "    # Change filename as you fiddle with binning of peaks (e.g. MZ, MZ-RT, etc...)\n",
    "    with open(FIG_DATA_DIR / out_json_path, \"w\") as f:\n",
    "        json.dump(export_json, f)\n",
    "\n",
    "mzml_exp = MZML_MAPPED_TSV_DIR / \"merged_20220128_frame=25523_scan=452_qvalue_01.tsv\"\n",
    "summary_dict = get_found_nonfound(\n",
    "    mzml_exp,\n",
    "    sig_qvalue_osw_df,\n",
    "    # Change here...\n",
    "    include_rt_im=True\n",
    ")\n",
    "\n",
    "found_mz = summary_dict['found_mz']\n",
    "nonfound_mz = summary_dict['nonfound_mz']\n",
    "\n",
    "            \n",
    "window = []\n",
    "perc_in_window = []\n",
    "for x, mz in yield_perc_mz_window_found(found_mz, nonfound_mz):\n",
    "    window.append(x)\n",
    "    perc_in_window.append(mz)\n",
    "    \n",
    "output_json = '20220201_RT_2688.630046_frame=25523_scan=452_MZ_RT_IM_mass_to_charge_window.json'\n",
    "export_window_mz(window, perc_in_window, output_json)"
   ]
  },
  {
   "cell_type": "code",
   "execution_count": 164,
   "id": "567eff49-201c-4cff-86c8-0847216d435a",
   "metadata": {},
   "outputs": [
    {
     "data": {
      "image/png": "[encoded data removed]",
      "text/plain": [
       "<Figure size 432x288 with 1 Axes>"
      ]
     },
     "metadata": {
      "needs_background": "light"
     },
     "output_type": "display_data"
    }
   ],
   "source": [
    "plt.plot(window, perc_in_window)\n",
    "plt.ylim()\n",
    "plt.show()"
   ]
  },
  {
   "cell_type": "markdown",
   "id": "4c4f44b3-4918-416a-b0b1-997b700ef2ac",
   "metadata": {},
   "source": [
    "## Explorative code\n",
    "\n",
    "All programs posted here are for exploratory purposes. If significant, tidy and move above section."
   ]
  },
  {
   "cell_type": "markdown",
   "id": "94e21b69-4db5-4826-8da0-cdd2e393929d",
   "metadata": {},
   "source": [
    "### Look at all intensity histograms tracking found/non-found for 168 RT sections (experiments) in MZML file"
   ]
  },
  {
   "cell_type": "code",
   "execution_count": 391,
   "id": "4918e45d-9c4e-41e1-9848-b05bd31d25df",
   "metadata": {},
   "outputs": [
    {
     "data": {
      "text/plain": [
       "{'rt': 2400.240718,\n",
       " 'exp_id': 'frame=22786_scan=452',\n",
       " 'mz_perc_identified': 0.7641719472512416,\n",
       " 'mz_perc_rt_identified': 0.2586915567734201,\n",
       " 'mz_perc_rt_im_identified': 0.05125021407775304}"
      ]
     },
     "execution_count": 391,
     "metadata": {},
     "output_type": "execute_result"
    }
   ],
   "source": [
    "# For explorative purposes...\n",
    "def open_json(filepath):\n",
    "    with open(filepath, \"r\") as f:\n",
    "        data = json.load(f)\n",
    "    return data\n",
    "\n",
    "\n",
    "sig_peak_json = FIG_DATA_DIR / \"perc_peaks_identified_1330_0.json\"\n",
    "data = open_json(sig_peak_json)\n",
    "\n",
    "exp_rt, exp_id, mz_perc, mz_rt_perc, mz_rt_im_perc = zip(*[d.values() for d in data])\n",
    "data[0]\n"
   ]
  },
  {
   "cell_type": "code",
   "execution_count": 392,
   "id": "d2a7e779-179c-450e-b1fa-1b1fab2b7342",
   "metadata": {},
   "outputs": [],
   "source": [
    "def hist_plot_found_nonfound(found, non_found, rt, bins):\n",
    "    fig = plt.figure()\n",
    "    fig.set_size_inches(8, 6)\n",
    "    plt.hist(\n",
    "        [non_found, found], label=[\"Non-found\", \"Found\"], stacked=True, density=True, bins=bins\n",
    "    )\n",
    "    plt.title(f\"Intensity distribution of found & non-found peaks - RT: {rt}\")\n",
    "    plt.legend(bbox_to_anchor=(1, 1), loc=2, borderaxespad=0.0)\n",
    "    plt.ylabel(\"Density\")\n",
    "    plt.ylim((0, 0.04))\n",
    "    plt.xlim((0, 150))\n",
    "    plt.savefig(f\"hist_sample{rt}.png\", dpi=100)\n",
    "    # plt.show()\n"
   ]
  },
  {
   "cell_type": "code",
   "execution_count": 393,
   "id": "aac27ba4-f6e9-4ffa-b281-4cb9b5aa2175",
   "metadata": {},
   "outputs": [],
   "source": [
    "# Iteratively produce plots - histograms - check for diff\n",
    "\n",
    "\n",
    "def run_multi_hist(sig_qvalue_osw_df):\n",
    "    # data reffed above\n",
    "    for idx, item in enumerate(data):\n",
    "        for filepath in os.listdir(MZML_MAPPED_TSV_DIR):\n",
    "            if item[\"exp_id\"] in filepath:\n",
    "                break\n",
    "\n",
    "        filepath = MZML_MAPPED_TSV_DIR / filepath\n",
    "        # Load significant MZML TSV file.\n",
    "        mz_df = pd.read_csv(filepath, sep=\"\\t\")\n",
    "\n",
    "        # Merged MZML/OSW DF has to be generated every time.\n",
    "        merged_mzml_osw_df = mz_df.merge(sig_qvalue_osw_df, on=\"TRANSITION_ID\")\n",
    "        merged_mzml_osw_df[\"EXP_IM_LEFT\"] = merged_mzml_osw_df[\"EXP_IM\"] - im_range\n",
    "        merged_mzml_osw_df[\"EXP_IM_RIGHT\"] = merged_mzml_osw_df[\"EXP_IM\"] + im_range\n",
    "\n",
    "        found_mz, found_int, nonfound_mz, nonfound_int, exp_id = get_mz_int_peaks_nonfound_in_mzml(\n",
    "            mz_df, filepath, merged_mzml_osw_df, exps\n",
    "        )\n",
    "\n",
    "        found_int_10_150 = list(map(str, get_10_150_rt_data(found_int)))\n",
    "        nonfound_int_10_150 = list(map(str, get_10_150_rt_data(nonfound_int)))\n",
    "\n",
    "        # Demo purposes\n",
    "        found_int_10_150 = get_10_150_rt_data(found_int)\n",
    "        nonfound_int_10_150 = get_10_150_rt_data(nonfound_int)\n",
    "\n",
    "        # Get bin length\n",
    "        found_bin = len(sorted(set(list(map(round, found_int_10_150)))))\n",
    "        nonfound_bin = len(sorted(set(list(map(round, nonfound_int_10_150)))))\n",
    "\n",
    "        if found_bin > nonfound_bin:\n",
    "            bins = found_bin + 1\n",
    "        else:\n",
    "            bins = nonfound_bin + 1\n",
    "        print(bins)\n",
    "\n",
    "        print(\"Plotting:\", item[\"rt\"], \"with featureID:\", exp_id)\n",
    "        hist_plot_found_nonfound(found_int_10_150, nonfound_int_10_150, item[\"rt\"], bins)\n",
    "\n",
    "\n",
    "run_multi_hist(sig_qvalue_osw_df)\n"
   ]
  },
  {
   "cell_type": "code",
   "execution_count": null,
   "id": "666a688e-a5e5-4312-87a3-a87bd1bf158e",
   "metadata": {},
   "outputs": [],
   "source": []
  }
 ],
 "metadata": {
  "kernelspec": {
   "display_name": "roest-lab",
   "language": "python",
   "name": "roest-lab"
  },
  "language_info": {
   "codemirror_mode": {
    "name": "ipython",
    "version": 3
   },
   "file_extension": ".py",
   "mimetype": "text/x-python",
   "name": "python",
   "nbconvert_exporter": "python",
   "pygments_lexer": "ipython3",
   "version": "3.8.12"
  }
 },
 "nbformat": 4,
 "nbformat_minor": 5
}
