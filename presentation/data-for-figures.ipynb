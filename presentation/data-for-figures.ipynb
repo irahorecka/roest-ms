{
 "cells": [
  {
   "cell_type": "markdown",
   "id": "e19b6aae-4ce6-475a-9d2c-b1a7ada69a2f",
   "metadata": {},
   "source": [
    "## Jupyter notebook to generate data for figures.\n",
    "\n",
    "Figures should be plotted in a separate Jupyter notebook"
   ]
  },
  {
   "cell_type": "markdown",
   "id": "26eb4825-fd0e-4121-8042-1417cd857bb6",
   "metadata": {},
   "source": [
    "### For generating data of percentage of significant peaks in file 1330_0 between RT 2400-2700"
   ]
  },
  {
   "cell_type": "code",
   "execution_count": 168,
   "id": "2d27e208-9d99-444c-84f6-a65f4ded0bbc",
   "metadata": {},
   "outputs": [],
   "source": [
    "import json\n",
    "import math\n",
    "import os\n",
    "from copy import copy\n",
    "from pathlib import Path\n",
    "\n",
    "import matplotlib.pyplot as plt\n",
    "import numpy as np\n",
    "import pandas as pd\n",
    "import pyopenms as pms\n",
    "\n",
    "BASE_DIR = Path().resolve().parent\n",
    "TSV_DIR = BASE_DIR / \"data\" / \"tsv\"\n",
    "MZML_DIR = BASE_DIR / \"data\" / \"mzml\"\n",
    "MZML_MAPPED_TSV_DIR = TSV_DIR / \"mapped_mzml_to_osw_qval_01_mz_window_20ppm\"\n",
    "FIG_DATA_DIR = BASE_DIR / \"presentation\" / \"data\"\n"
   ]
  },
  {
   "cell_type": "code",
   "execution_count": 400,
   "id": "dbbbb909-125f-4561-b1bc-bcc1bdacdd67",
   "metadata": {},
   "outputs": [],
   "source": [
    "# Get MZML experiment object\n",
    "\n",
    "mzml_filepath = (\n",
    "    MZML_DIR\n",
    "    / \"Rost_DIApy3_SP2um_90min_250ngK562_100nL_1_Slot1-5_1_1330_6-28-2021_0_2400_to_2700_swath_700.mzML\"\n",
    ")\n",
    "\n",
    "\n",
    "def get_msexperiment_obj(mzml_filepath):\n",
    "    # Read corresponding mzML file and load it into pyopenms object\n",
    "    msexperiment = pms.MSExperiment()\n",
    "    pms.MzMLFile().load(str(mzml_filepath), msexperiment)\n",
    "    return msexperiment\n",
    "\n",
    "\n",
    "exps = get_msexperiment_obj(mzml_filepath)\n"
   ]
  },
  {
   "cell_type": "code",
   "execution_count": 337,
   "id": "bb54710b-2e41-4958-b71d-11f463b020ba",
   "metadata": {},
   "outputs": [],
   "source": [
    "# Path to significant QVALUE OSW datapath\n",
    "sig_qvalue_osw = TSV_DIR / \"20220127_run_1330_0_sig_qval_null_feature_ftrans_trans_score_ms2.tsv\"\n",
    "# Path to one of the 168 MZML experiments - isolated significant peaks\n",
    "mzml_exp = MZML_MAPPED_TSV_DIR / \"merged_20220127_frame=22786_scan=452_qvalue_01.tsv\"\n"
   ]
  },
  {
   "cell_type": "code",
   "execution_count": 338,
   "id": "80604ba0-580c-44b7-b0c8-fc5f37a257ce",
   "metadata": {},
   "outputs": [],
   "source": [
    "# Load significant QVALUE OSW dataframe\n",
    "sig_qvalue_osw_df = pd.read_csv(sig_qvalue_osw, sep=\"\\t\").drop(columns=[\"FEATURE_ID\"])\n",
    "# Load significant MZML experiment\n",
    "mzml_exp_df = pd.read_csv(mzml_exp, sep=\"\\t\")\n",
    "# Merge loaded df on col TRANSITION_ID\n",
    "merged_mzml_osw_df = mzml_exp_df.merge(sig_qvalue_osw_df, on=\"TRANSITION_ID\")\n"
   ]
  },
  {
   "cell_type": "code",
   "execution_count": 406,
   "id": "f9a14712-1d34-4f32-9390-f483ca0cf634",
   "metadata": {},
   "outputs": [],
   "source": [
    "# Generate IM range for filtering - +/- 0.05\n",
    "im_range = 0.05\n",
    "merged_mzml_osw_df[\"EXP_IM_LEFT\"] = merged_mzml_osw_df[\"EXP_IM\"] - im_range\n",
    "merged_mzml_osw_df[\"EXP_IM_RIGHT\"] = merged_mzml_osw_df[\"EXP_IM\"] + im_range\n"
   ]
  },
  {
   "cell_type": "code",
   "execution_count": 340,
   "id": "5d693595-0abe-476b-9d4c-17e4a7d994d8",
   "metadata": {},
   "outputs": [
    {
     "data": {
      "text/plain": [
       "(0.7641719472512416,\n",
       " 0.2586915567734201,\n",
       " 0.05125021407775304,\n",
       " 'frame=22786_scan=452')"
      ]
     },
     "execution_count": 340,
     "metadata": {},
     "output_type": "execute_result"
    }
   ],
   "source": [
    "# Define function to gather percentage significant peaks in various settings such as:\n",
    "# - % peaks found in a significant file compared to MZML object\n",
    "# - % peaks found using RT range in a significant file compared to MZML object\n",
    "# - % peaks found using RT and IM range in a significant file compared to MZML object\n",
    "\n",
    "from collections import Counter\n",
    "\n",
    "\n",
    "def get_perc_peaks_found_in_mzml(reduced_df, reduced_df_filename, merged_df, mzml_exps):\n",
    "    def round_(x):\n",
    "        \"\"\"For floating point conversion - nearly impossible to do comparison otherwise.\"\"\"\n",
    "        return str(x)[:8]\n",
    "\n",
    "    # Get experiment ID from filename\n",
    "    exp_name_tsv = \"frame\" + str(reduced_df_filename).split(\"frame\")[-1].split(\"_qvalue\")[0]\n",
    "    # Iterate through MZML experiments and match with filename.\n",
    "    for mz_idx, exp in enumerate(mzml_exps):\n",
    "        if exp_name_tsv == exp.getNativeID():\n",
    "            # If filename match, extract attributes from MZML experiment\n",
    "            mz, int_ = exp.get_peaks()\n",
    "            rt = exp.getRT()\n",
    "            im = exp.getFloatDataArrays()[0].get_data()[mz_idx]\n",
    "            peak_count = map(round_, mz)\n",
    "            break\n",
    "    # Create counter for peak counts.\n",
    "    peak_count_map = dict(Counter(peak_count))\n",
    "\n",
    "    # Find just sig MZ from isolated dataframe\n",
    "    found_mz_peaks = set(map(round_, reduced_df[\"MZ\"]))\n",
    "    count = 0\n",
    "    for peak in found_mz_peaks:\n",
    "        count += peak_count_map[peak]\n",
    "    # % peaks found in a significant file compared to MZML object\n",
    "    mz_perc = count / len(mz)\n",
    "\n",
    "    # Find sig MZ in RT window\n",
    "    rt_window_df = merged_df[(merged_df[\"LEFT_WIDTH\"] < rt) & (merged_df[\"RIGHT_WIDTH\"] > rt)]\n",
    "    found_mz_rt_peaks = set(map(round_, rt_window_df[\"MZ\"]))\n",
    "    count = 0\n",
    "    for peak in found_mz_rt_peaks:\n",
    "        count += peak_count_map[peak]\n",
    "    # % peaks found using RT range in a significant file compared to MZML object\n",
    "    mz_rt_perc = count / len(mz)\n",
    "\n",
    "    # Find sig MZ in RT window AND in IM window\n",
    "    rt_im_window_df = rt_window_df[\n",
    "        (rt_window_df[\"EXP_IM_LEFT\"] < im) & (rt_window_df[\"EXP_IM_RIGHT\"] > im)\n",
    "    ]\n",
    "    found_mz_rt_im_peaks = set(map(round_, rt_im_window_df[\"MZ\"]))\n",
    "    count = 0\n",
    "    for peak in found_mz_rt_im_peaks:\n",
    "        count += peak_count_map[peak]\n",
    "    # % peaks found using RT and IM range in a significant file compared to MZML object\n",
    "    mz_rt_im_perc = count / len(mz)\n",
    "\n",
    "    # Return MZ percentage, MZ-RT percentage, MZ-RT-IM percentage, and experiment ID\n",
    "    return mz_perc, mz_rt_perc, mz_rt_im_perc, exp.getNativeID()\n",
    "\n",
    "\n",
    "# Test logic\n",
    "perc = get_perc_peaks_found_in_mzml(mzml_exp_df, mzml_exp, merged_mzml_osw_df, exps)\n",
    "perc\n"
   ]
  },
  {
   "cell_type": "code",
   "execution_count": 26,
   "id": "93f580a8-3c74-4abd-aa61-b6812beb81de",
   "metadata": {},
   "outputs": [],
   "source": [
    "# Iterate through content of significant files dir (total 168 TSV files) and pipe files to\n",
    "# perc sig peak calculator.\n",
    "\n",
    "mzml_perc_list = []\n",
    "im_range = 0.05\n",
    "\n",
    "for filepath in os.listdir(MZML_MAPPED_TSV_DIR):\n",
    "    if filepath.endswith(\".tsv\"):\n",
    "        filepath = MZML_MAPPED_TSV_DIR / filepath\n",
    "        # Load significant MZML TSV file.\n",
    "        mz_df = pd.read_csv(filepath, sep=\"\\t\")\n",
    "\n",
    "        # Merged MZML/OSW DF has to be generated every time.\n",
    "        merged_mzml_osw_df = mz_df.merge(sig_qvalue_osw_df, on=\"TRANSITION_ID\")\n",
    "        merged_mzml_osw_df[\"EXP_IM_LEFT\"] = merged_mzml_osw_df[\"EXP_IM\"] - im_range\n",
    "        merged_mzml_osw_df[\"EXP_IM_RIGHT\"] = merged_mzml_osw_df[\"EXP_IM\"] + im_range\n",
    "\n",
    "        mz_perc, mz_rt_perc, mz_rt_im_perc, exp_id = get_perc_peaks_found_in_mzml(\n",
    "            mz_df, filepath, merged_mzml_osw_df, exps\n",
    "        )\n",
    "        print(mz_perc, mz_rt_perc, mz_rt_im_perc, exp_id)\n",
    "\n",
    "        mzml_perc_list.append(tuple([mz_perc, mz_rt_perc, mz_rt_im_perc, exp_id]))\n"
   ]
  },
  {
   "cell_type": "code",
   "execution_count": null,
   "id": "8ac6fd9a-b00b-46da-9890-60c9bbc51922",
   "metadata": {},
   "outputs": [],
   "source": [
    "# Get all percentage features and RT - sort by RT\n",
    "\n",
    "\n",
    "def get_exp_rt_from_frame_id(exps, frame_id):\n",
    "    # Get additional attributes from MZML experiment\n",
    "    for exp in exps:\n",
    "        if exp.getNativeID() == frame_id:\n",
    "            return exp.getRT()\n",
    "\n",
    "\n",
    "# Generate summary percentage array for export as JSON (1 cell down)\n",
    "summary = []\n",
    "for run in mzml_perc_list:\n",
    "    frame_id = run[-1]\n",
    "    run = list(run)\n",
    "    # Append experiment RT value\n",
    "    run.append(get_exp_rt_from_frame_id(exps, frame_id))\n",
    "    summary.append(run)\n",
    "\n",
    "# Sort by experiment RT value\n",
    "summary = sorted(summary, key=lambda x: x[-1])\n",
    "# Unpack value for testing\n",
    "# mz_perc, mz_rt_perc, mz_rt_im_perc, exp_id, exp_rt = zip(*summary)\n"
   ]
  },
  {
   "cell_type": "code",
   "execution_count": null,
   "id": "c10a9dc5-610e-431e-875f-5caacdbc6cc6",
   "metadata": {},
   "outputs": [],
   "source": [
    "# Export `mzml_perc_list` as JSON for figure building\n",
    "\n",
    "cumulative_json = []\n",
    "for item in summary:\n",
    "    export_json = {\n",
    "        \"rt\": \"\",\n",
    "        \"exp_id\": \"\",\n",
    "        \"mz_perc_identified\": \"\",\n",
    "        \"mz_perc_rt_identified\": \"\",\n",
    "        \"mz_perc_rt_im_identified\": \"\",\n",
    "    }\n",
    "    export_json[\"rt\"] = item[-1]\n",
    "    export_json[\"exp_id\"] = item[-2]\n",
    "    export_json[\"mz_perc_identified\"] = item[0]\n",
    "    export_json[\"mz_perc_rt_identified\"] = item[1]\n",
    "    export_json[\"mz_perc_rt_im_identified\"] = item[2]\n",
    "    cumulative_json.append(export_json)\n",
    "\n",
    "# Export cumulated JSON to file\n",
    "with open(FIG_DATA_DIR / \"20220131_perc_peaks_identified_1330_0.json\", \"w\") as f:\n",
    "    json.dump(cumulative_json, f)\n"
   ]
  },
  {
   "cell_type": "markdown",
   "id": "1ca19ecd-7c41-49e8-aaf8-704345e9803e",
   "metadata": {},
   "source": [
    "### For generating data to compare insignificant peaks vs significant peaks"
   ]
  },
  {
   "cell_type": "code",
   "execution_count": 44,
   "id": "84499664-0847-49f2-8660-47db46e96dc6",
   "metadata": {},
   "outputs": [],
   "source": [
    "all_qvalue_osw = TSV_DIR / \"20220127_qval_null_feature_ftrans_trans_score_ms2.tsv\"\n",
    "nonsig_qvalue_osw = TSV_DIR / \"20220127_nonsig_qval_null_feature_ftrans_trans_score_ms2.tsv\""
   ]
  },
  {
   "cell_type": "code",
   "execution_count": 42,
   "id": "22b692c7-8c6a-4715-b35a-df3e9c1c8099",
   "metadata": {},
   "outputs": [],
   "source": [
    "def read_chunk_tsv(input_path, chunksize=1_000_000):\n",
    "    # DON'T USE IF YOU ARE PLANNING TO MERGE TABLES ON A KEY\n",
    "    print(f\"Reading {input_path} as TSV chunk\")\n",
    "    with pd.read_csv(input_path, sep=\"\\t\", chunksize=chunksize) as reader:\n",
    "        yield from reader\n",
    "        \n",
    "def export_as_tsv(df, output_path):\n",
    "    print(\"Exporting dataframe as TSV...\")\n",
    "    df.to_csv(output_path, sep=\"\\t\", index=False)\n"
   ]
  },
  {
   "cell_type": "code",
   "execution_count": 41,
   "id": "addb1204-1520-48a8-9fcc-a0bc31714b49",
   "metadata": {},
   "outputs": [
    {
     "name": "stdout",
     "output_type": "stream",
     "text": [
      "Reading /Users/irahorecka/Desktop/Harddrive_Desktop/PhD/University of Toronto/Rotations/Rost Lab/roest-ms/data/tsv/20220127_qval_null_feature_ftrans_trans_score_ms2.tsv as TSV chunk\n",
      "Reading chunk #31 with shape (66276, 26).).\r"
     ]
    }
   ],
   "source": [
    "all_qvalue_osw_df = read_chunk_tsv(all_qvalue_osw)\n",
    "nonsig_qvalue_osw_df = pd.DataFrame()\n",
    "\n",
    "## Completed on 2021-01-31 - don't run again.\n",
    "# for idx, chunk in enumerate(all_qvalue_osw_df):\n",
    "#     print(f\"Reading chunk #{idx + 1} with shape {chunk.shape}.\", end=\"\\r\")\n",
    "#     nonsig_qvalue_osw_df = pd.concat([nonsig_qvalue_osw_df, chunk[chunk[\"QVALUE\"] >= 0.01]])"
   ]
  },
  {
   "cell_type": "code",
   "execution_count": 45,
   "id": "efbbf798-3bcf-4cfa-8595-33edbace9696",
   "metadata": {},
   "outputs": [
    {
     "name": "stdout",
     "output_type": "stream",
     "text": [
      "Exporting dataframe as TSV...\n"
     ]
    }
   ],
   "source": [
    "# Export nonsignificant peaks found in OSW file - delete when project is complete...\n",
    "export_as_tsv(nonsig_qvalue_osw_df, nonsig_qvalue_osw)"
   ]
  },
  {
   "cell_type": "code",
   "execution_count": 407,
   "id": "30678951-3f9a-4369-a95d-fc96632cade8",
   "metadata": {},
   "outputs": [
    {
     "name": "stdout",
     "output_type": "stream",
     "text": [
      "NonFound peak perc: 0.876930767308173\n",
      "Found peak perc: 0.12306923269182701\n"
     ]
    }
   ],
   "source": [
    "# Finding cumulative intensities for peaks that were found in MZML file\n",
    "# Define function to gather percentage significant peaks in various settings such as:\n",
    "# - % peaks found in a significant file compared to MZML object\n",
    "# - % peaks found using RT range in a significant file compared to MZML object\n",
    "# - % peaks found using RT and IM range in a significant file compared to MZML object\n",
    "\n",
    "from collections import Counter\n",
    "\n",
    "\n",
    "def get_mz_int_peaks_nonfound_in_mzml(reduced_df, reduced_df_filename, merged_df, mzml_exps, include_rt=False, include_rt_im=False):\n",
    "    def round_(x):\n",
    "        \"\"\"For floating point conversion - nearly impossible to do comparison otherwise.\"\"\"\n",
    "        return str(x)[:8]\n",
    "\n",
    "    # Get experiment ID from filename\n",
    "    exp_name_tsv = \"frame\" + str(reduced_df_filename).split(\"frame\")[-1].split(\"_qvalue\")[0]\n",
    "    # Iterate through MZML experiments and match with filename.\n",
    "    for mz_idx, exp in enumerate(mzml_exps):\n",
    "        if exp_name_tsv == exp.getNativeID():\n",
    "            # If filename match, extract attributes from MZML experiment\n",
    "            mz, int_ = exp.get_peaks()\n",
    "            rt = exp.getRT()\n",
    "            im = exp.getFloatDataArrays()[0].get_data()[mz_idx]\n",
    "            peak_count = map(round_, mz)\n",
    "            break\n",
    "\n",
    "    found_mz_peaks = dict(Counter(set(map(round_, reduced_df[\"MZ\"]))))\n",
    "    \n",
    "    if include_rt is True or include_rt_im is True:\n",
    "        ## Filter intensity between left and right RT window\n",
    "        rt_window_df = merged_df[(merged_df[\"LEFT_WIDTH\"] < rt) & (merged_df[\"RIGHT_WIDTH\"] > rt)]\n",
    "        found_mz_peaks = dict(Counter(set(map(round_, rt_window_df[\"MZ\"]))))\n",
    "    \n",
    "    if include_rt_im is True:\n",
    "        ## Filter intensity between left and right window\n",
    "        rt_im_window_df = rt_window_df[\n",
    "            (rt_window_df[\"EXP_IM_LEFT\"] < im) & (rt_window_df[\"EXP_IM_RIGHT\"] > im)\n",
    "        ]\n",
    "        found_mz_peaks = dict(Counter(set(map(round_, rt_im_window_df[\"MZ\"]))))\n",
    "    \n",
    "    found_mz = []\n",
    "    nonfound_mz = []\n",
    "    found_int = []\n",
    "    nonfound_int = []\n",
    "    count = 0\n",
    "    \n",
    "    for idx, peak in enumerate(peak_count):\n",
    "        try:\n",
    "            found_mz_peaks[peak]\n",
    "            found_mz.append(mz[idx])\n",
    "            found_int.append(int_[idx])\n",
    "        except KeyError:\n",
    "            count += 1\n",
    "            nonfound_mz.append(mz[idx])\n",
    "            nonfound_int.append(int_[idx])\n",
    "    print(\"NonFound peak perc:\", count / len(mz))\n",
    "    print(\"Found peak perc:\", 1 - count / len(mz))\n",
    "    return found_mz, found_int, nonfound_mz, nonfound_int, exp.getNativeID()\n",
    "\n",
    "\n",
    "mzml_exp = MZML_MAPPED_TSV_DIR / \"merged_20220127_frame=24707_scan=452_qvalue_01.tsv\"\n",
    "mzml_exp_df = pd.read_csv(mzml_exp, sep=\"\\t\")\n",
    "# Test logic\n",
    "perc = get_mz_int_peaks_nonfound_in_mzml(mzml_exp_df, mzml_exp, merged_mzml_osw_df, exps, include_rt_im=True)\n",
    "found_mz, found_int, nonfound_mz, nonfound_int, exp_id = perc"
   ]
  },
  {
   "cell_type": "code",
   "execution_count": 395,
   "id": "d654e1a1-02d6-4bf6-9993-8c1dbfce6449",
   "metadata": {},
   "outputs": [],
   "source": [
    "def get_10_150_rt_data(rt_arr):\n",
    "    return [rt for rt in rt_arr if rt < 150 and rt > 11]"
   ]
  },
  {
   "cell_type": "code",
   "execution_count": 396,
   "id": "ca352277-12aa-4209-ba7d-1658c8b68a60",
   "metadata": {},
   "outputs": [
    {
     "data": {
      "image/png": "[encoded data removed]",
      "text/plain": [
       "<Figure size 432x288 with 1 Axes>"
      ]
     },
     "metadata": {
      "needs_background": "light"
     },
     "output_type": "display_data"
    }
   ],
   "source": [
    "found_int_10_150 = list(map(str, get_10_150_rt_data(found_int)))\n",
    "nonfound_int_10_150 = list(map(str, get_10_150_rt_data(nonfound_int)))\n",
    "\n",
    "export_json = {\n",
    "    \"found_intensity_perc_range_10_150\": found_int_10_150,\n",
    "    \"nonfound_intensity_perc_range_10_150\": nonfound_int_10_150,\n",
    "}\n",
    "\n",
    "# Change filename as you fiddle with binning of peaks (e.g. MZ, MZ-RT, etc...)\n",
    "# with open(FIG_DATA_DIR / \"20220131_MZ_RT_IM_perc_intensity_found_nonfound_1330_0.json\", \"w\") as f:\n",
    "#     json.dump(export_json, f)\n",
    "    \n",
    "\n",
    "# Demo purposes\n",
    "found_int_10_150 = get_10_150_rt_data(found_int)\n",
    "nonfound_int_10_150 = get_10_150_rt_data(nonfound_int)\n",
    "plt.hist([nonfound_int_10_150, found_int_10_150], stacked=True, density=True, bins=139)\n",
    "plt.show()"
   ]
  },
  {
   "cell_type": "code",
   "execution_count": 397,
   "id": "63d07ee5-6302-4f97-acf5-95c4c7424922",
   "metadata": {},
   "outputs": [],
   "source": [
    "def yield_perc_int_window_found(found_int, nonfound_int):\n",
    "    joined_int = found_int + nonfound_int\n",
    "    prev_perc_found = 0\n",
    "    for i in range(math.ceil(max(joined_int)) + 1):\n",
    "        range_found_int = []\n",
    "        for int_ in found_int:\n",
    "            if int_ > i-1 and int_ <= i:\n",
    "                range_found_int.append(int_)\n",
    "\n",
    "        range_nonfound_int = []\n",
    "        for int_ in nonfound_int:\n",
    "            if int_ > i-1 and int_ <= i:\n",
    "                range_nonfound_int.append(int_)\n",
    "        \n",
    "        try:\n",
    "            perc_found = len(range_found_int) / (len(range_found_int) + len(range_nonfound_int))\n",
    "            prev_perc_found = copy(perc_found)\n",
    "            yield (i, perc_found)\n",
    "        except ZeroDivisionError:\n",
    "            # Previous iteration's perc_found\n",
    "            yield (i, prev_perc_found)"
   ]
  },
  {
   "cell_type": "code",
   "execution_count": 398,
   "id": "2537fc8e-c51b-44a7-9c4c-65c89f7875bf",
   "metadata": {},
   "outputs": [],
   "source": [
    "rt_window = []\n",
    "perc_found_in_rt_window = []\n",
    "for idx, item in yield_perc_int_window_found(found_int_10_150, nonfound_int_10_150):\n",
    "    if item != 0:\n",
    "        rt_window.append(idx)\n",
    "        perc_found_in_rt_window.append(item)\n",
    "        \n",
    "export_json = {\n",
    "    \"intensity_window_range_10_150\": rt_window,\n",
    "    \"perc_found_intensity_range_10_150\": perc_found_in_rt_window,\n",
    "}\n",
    "\n",
    "# Change filename as you fiddle with binning of peaks (e.g. MZ, MZ-RT, etc...)\n",
    "# with open(FIG_DATA_DIR / \"20220131_int_window_MZ_RT_IM_perc_intensity_found_nonfound_1330_0.json\", \"w\") as f:\n",
    "#     json.dump(export_json, f)\n",
    "    "
   ]
  },
  {
   "cell_type": "code",
   "execution_count": 399,
   "id": "a73fa1b7-0310-41dc-a026-11bb443d8115",
   "metadata": {},
   "outputs": [
    {
     "data": {
      "image/png": "[encoded data removed]",
      "text/plain": [
       "<Figure size 432x288 with 1 Axes>"
      ]
     },
     "metadata": {
      "needs_background": "light"
     },
     "output_type": "display_data"
    }
   ],
   "source": [
    "plt.plot(rt_window, perc_found_in_rt_window)\n",
    "plt.show()"
   ]
  },
  {
   "cell_type": "code",
   "execution_count": 408,
   "id": "307f66e2-b249-4e81-9661-1e665ba02b6a",
   "metadata": {},
   "outputs": [],
   "source": [
    "# Set up all data again for analysis\n",
    "# Generate IM range for filtering - +/- 0.05\n",
    "merged_mzml_osw_df = mzml_exp_df.merge(sig_qvalue_osw_df, on=\"TRANSITION_ID\")\n",
    "\n",
    "im_range = 0.05\n",
    "merged_mzml_osw_df[\"EXP_IM_LEFT\"] = merged_mzml_osw_df[\"EXP_IM\"] - im_range\n",
    "merged_mzml_osw_df[\"EXP_IM_RIGHT\"] = merged_mzml_osw_df[\"EXP_IM\"] + im_range\n"
   ]
  },
  {
   "cell_type": "code",
   "execution_count": 440,
   "id": "80c5825d-1688-42e6-b5da-1c7be9d5641e",
   "metadata": {},
   "outputs": [
    {
     "name": "stdout",
     "output_type": "stream",
     "text": [
      "NonFound peak perc: 0.8457459746071898\n",
      "Found peak perc: 0.1542540253928102\n"
     ]
    }
   ],
   "source": [
    "# Now, find the most significant RT window and use this data for export\n",
    "def get_found_nonfound(mzml_exp_path, merged_mzml_osw_df, **kwargs):\n",
    "    mzml_exp_df = pd.read_csv(mzml_exp_path, sep=\"\\t\")\n",
    "    merged_mzml_osw_df = mzml_exp_df.merge(sig_qvalue_osw_df, on=\"TRANSITION_ID\")\n",
    "    im_range = 0.05\n",
    "    merged_mzml_osw_df[\"EXP_IM_LEFT\"] = merged_mzml_osw_df[\"EXP_IM\"] - im_range\n",
    "    merged_mzml_osw_df[\"EXP_IM_RIGHT\"] = merged_mzml_osw_df[\"EXP_IM\"] + im_range\n",
    "\n",
    "    found_mz, found_int, nonfound_mz, nonfound_int, exp_id = get_mz_int_peaks_nonfound_in_mzml(mzml_exp_df, mzml_exp_path, merged_mzml_osw_df, exps, **kwargs)\n",
    "\n",
    "    # Bin intensity range between 10 and 150\n",
    "    found_int_10_150 = get_10_150_rt_data(found_int)\n",
    "    nonfound_int_10_150 = get_10_150_rt_data(nonfound_int)\n",
    "    \n",
    "    return found_int_10_150, nonfound_int_10_150\n",
    "\n",
    "\n",
    "def export_rt_intensity_dist(mzml_exp_path, merged_mzml_osw_df, out_json_path, **kwargs):\n",
    "    found_int_10_150, nonfound_int_10_150 = get_found_nonfound(mzml_exp_path, merged_mzml_osw_df, **kwargs)\n",
    "    found_int_10_150 = list(map(str, found_int_10_150))\n",
    "    nonfound_int_10_150 = list(map(str, nonfound_int_10_150))\n",
    "    export_json = {\n",
    "        \"found_intensity_perc_range_10_150\": found_int_10_150,\n",
    "        \"nonfound_intensity_perc_range_10_150\": nonfound_int_10_150,\n",
    "    }\n",
    "    # Change filename as you fiddle with binning of peaks (e.g. MZ, MZ-RT, etc...)\n",
    "    with open(FIG_DATA_DIR / out_json_path, \"w\") as f:\n",
    "        json.dump(export_json, f)\n",
    "        \n",
    "\n",
    "def export_rt_intensity_window(mzml_exp_path, merged_mzml_osw_df, out_json_path, **kwargs):\n",
    "    found_int_10_150, nonfound_int_10_150 = get_found_nonfound(mzml_exp_path, merged_mzml_osw_df, **kwargs)\n",
    "    rt_window = []\n",
    "    perc_found_in_rt_window = []\n",
    "    for idx, item in yield_perc_int_window_found(found_int_10_150, nonfound_int_10_150):\n",
    "        if item != 0:\n",
    "            rt_window.append(idx)\n",
    "            perc_found_in_rt_window.append(item)\n",
    "\n",
    "    export_json = {\n",
    "        \"intensity_window_range_10_150\": rt_window,\n",
    "        \"perc_found_intensity_range_10_150\": perc_found_in_rt_window,\n",
    "    }\n",
    "\n",
    "    # Change filename as you fiddle with binning of peaks (e.g. MZ, MZ-RT, etc...)\n",
    "    with open(FIG_DATA_DIR / out_json_path, \"w\") as f:\n",
    "        json.dump(export_json, f)\n",
    "\n",
    "\n",
    "\n",
    "mzml_exp = MZML_MAPPED_TSV_DIR / \"merged_20220128_frame=25523_scan=452_qvalue_01.tsv\"\n",
    "# export_rt_intensity_dist(mzml_exp, merged_mzml_osw_df, '20220131_RT_2688.630046_frame=25523_scan=452_MZ_RT_IM_intensity.json', include_rt_im=True)\n",
    "export_rt_intensity_window(mzml_exp, merged_mzml_osw_df, '20220131_RT_2688.630046_frame=25523_scan=452_MZ_RT_IM_intensity_window.json', include_rt_im=True)"
   ]
  },
  {
   "cell_type": "code",
   "execution_count": null,
   "id": "78ed7090-e202-4c95-a96c-0099474b8e0e",
   "metadata": {},
   "outputs": [],
   "source": []
  },
  {
   "cell_type": "markdown",
   "id": "4c4f44b3-4918-416a-b0b1-997b700ef2ac",
   "metadata": {},
   "source": [
    "## Explorative code\n",
    "\n",
    "All programs posted here are for exploratory purposes. If significant, tidy and move above section."
   ]
  },
  {
   "cell_type": "markdown",
   "id": "94e21b69-4db5-4826-8da0-cdd2e393929d",
   "metadata": {},
   "source": [
    "### Look at all intensity histograms tracking found/non-found for 168 RT sections (experiments) in MZML file"
   ]
  },
  {
   "cell_type": "code",
   "execution_count": 391,
   "id": "4918e45d-9c4e-41e1-9848-b05bd31d25df",
   "metadata": {},
   "outputs": [
    {
     "data": {
      "text/plain": [
       "{'rt': 2400.240718,\n",
       " 'exp_id': 'frame=22786_scan=452',\n",
       " 'mz_perc_identified': 0.7641719472512416,\n",
       " 'mz_perc_rt_identified': 0.2586915567734201,\n",
       " 'mz_perc_rt_im_identified': 0.05125021407775304}"
      ]
     },
     "execution_count": 391,
     "metadata": {},
     "output_type": "execute_result"
    }
   ],
   "source": [
    "# For explorative purposes...\n",
    "def open_json(filepath):\n",
    "    with open(filepath, \"r\") as f:\n",
    "        data = json.load(f)\n",
    "    return data\n",
    "\n",
    "sig_peak_json = FIG_DATA_DIR / \"perc_peaks_identified_1330_0.json\"\n",
    "data = open_json(sig_peak_json)\n",
    "\n",
    "exp_rt, exp_id, mz_perc, mz_rt_perc, mz_rt_im_perc = zip(*[d.values() for d in data])\n",
    "data[0]"
   ]
  },
  {
   "cell_type": "code",
   "execution_count": 392,
   "id": "d2a7e779-179c-450e-b1fa-1b1fab2b7342",
   "metadata": {},
   "outputs": [],
   "source": [
    "def hist_plot_found_nonfound(found, non_found, rt, bins):\n",
    "    fig = plt.figure()\n",
    "    fig.set_size_inches(8, 6)\n",
    "    plt.hist([non_found, found], label=['Non-found', 'Found'], stacked=True, density=True, bins=bins)\n",
    "    plt.title(f'Intensity distribution of found & non-found peaks - RT: {rt}')\n",
    "    plt.legend(bbox_to_anchor=(1, 1), loc=2, borderaxespad=0.)\n",
    "    plt.ylabel(\"Density\")\n",
    "    plt.ylim((0,0.04))\n",
    "    plt.xlim((0,150))\n",
    "    plt.savefig(f\"hist_sample{rt}.png\", dpi=100)\n",
    "    # plt.show()"
   ]
  },
  {
   "cell_type": "code",
   "execution_count": 393,
   "id": "aac27ba4-f6e9-4ffa-b281-4cb9b5aa2175",
   "metadata": {},
   "outputs": [],
   "source": [
    "# Iteratively produce plots - histograms - check for diff\n",
    "\n",
    "def run_multi_hist(sig_qvalue_osw_df):\n",
    "    # data reffed above\n",
    "    for idx, item in enumerate(data):\n",
    "        for filepath in os.listdir(MZML_MAPPED_TSV_DIR):\n",
    "            if item['exp_id'] in filepath:\n",
    "                break\n",
    "        \n",
    "        filepath = MZML_MAPPED_TSV_DIR / filepath\n",
    "        # Load significant MZML TSV file.\n",
    "        mz_df = pd.read_csv(filepath, sep=\"\\t\")\n",
    "\n",
    "        # Merged MZML/OSW DF has to be generated every time.\n",
    "        merged_mzml_osw_df = mz_df.merge(sig_qvalue_osw_df, on=\"TRANSITION_ID\")\n",
    "        merged_mzml_osw_df[\"EXP_IM_LEFT\"] = merged_mzml_osw_df[\"EXP_IM\"] - im_range\n",
    "        merged_mzml_osw_df[\"EXP_IM_RIGHT\"] = merged_mzml_osw_df[\"EXP_IM\"] + im_range\n",
    "\n",
    "        found_mz, found_int, nonfound_mz, nonfound_int, exp_id = get_mz_int_peaks_nonfound_in_mzml(mz_df, filepath, merged_mzml_osw_df, exps)\n",
    "\n",
    "        found_int_10_150 = list(map(str, get_10_150_rt_data(found_int)))\n",
    "        nonfound_int_10_150 = list(map(str, get_10_150_rt_data(nonfound_int)))\n",
    "\n",
    "        # Demo purposes\n",
    "        found_int_10_150 = get_10_150_rt_data(found_int)\n",
    "        nonfound_int_10_150 = get_10_150_rt_data(nonfound_int)\n",
    "\n",
    "        # Get bin length\n",
    "        found_bin = len(sorted(set(list(map(round, found_int_10_150)))))\n",
    "        nonfound_bin = len(sorted(set(list(map(round, nonfound_int_10_150)))))\n",
    "\n",
    "        if found_bin > nonfound_bin:\n",
    "            bins = found_bin + 1\n",
    "        else:\n",
    "            bins = nonfound_bin + 1\n",
    "        print(bins)\n",
    "    \n",
    "        print('Plotting:', item['rt'], 'with featureID:', exp_id)\n",
    "        hist_plot_found_nonfound(found_int_10_150, nonfound_int_10_150, item['rt'], bins)\n",
    "\n",
    "run_multi_hist(sig_qvalue_osw_df)"
   ]
  },
  {
   "cell_type": "code",
   "execution_count": null,
   "id": "666a688e-a5e5-4312-87a3-a87bd1bf158e",
   "metadata": {},
   "outputs": [],
   "source": []
  }
 ],
 "metadata": {
  "kernelspec": {
   "display_name": "roest-lab",
   "language": "python",
   "name": "roest-lab"
  },
  "language_info": {
   "codemirror_mode": {
    "name": "ipython",
    "version": 3
   },
   "file_extension": ".py",
   "mimetype": "text/x-python",
   "name": "python",
   "nbconvert_exporter": "python",
   "pygments_lexer": "ipython3",
   "version": "3.8.12"
  }
 },
 "nbformat": 4,
 "nbformat_minor": 5
}
