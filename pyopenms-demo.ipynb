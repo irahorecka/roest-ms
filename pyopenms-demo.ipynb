{
 "cells": [
  {
   "cell_type": "markdown",
   "id": "10ff9586-6bf8-4ac3-b90b-b3eeec816d53",
   "metadata": {},
   "source": [
    "# Roest Lab Jupyter Notebook for Exploratory Data Analysis\n",
    "This notebook is configured to the `roest-lab` virtual environment. Please ensure you have the `roest-lab` kernel activated when using this notebook.\n",
    "\n",
    "## Required PyPI packages\n",
    "- `numpy`\n",
    "- `pyopenms`\n",
    "\n",
    "## Auxiliary PyPI packages for data analysis\n",
    "- `matplotlib`"
   ]
  },
  {
   "cell_type": "code",
   "execution_count": 1,
   "id": "caa27244-2270-491a-9f0a-0e24f758be66",
   "metadata": {},
   "outputs": [
    {
     "name": "stdout",
     "output_type": "stream",
     "text": [
      "Welcome to the Roest Lab Exploratory MS Jupyter Notebook!\n"
     ]
    }
   ],
   "source": [
    "print(\"Welcome to the Roest Lab Exploratory MS Jupyter Notebook!\")"
   ]
  },
  {
   "cell_type": "code",
   "execution_count": 2,
   "id": "8148ad46-0299-429a-a4a6-7abdfe8b7aee",
   "metadata": {},
   "outputs": [],
   "source": [
    "# Set common directories\n",
    "import os\n",
    "\n",
    "BASE_DIR = os.path.abspath(os.getcwd())\n",
    "DATA_DIR = os.path.join(BASE_DIR, 'data')"
   ]
  },
  {
   "cell_type": "code",
   "execution_count": 3,
   "id": "7bcce104-ea22-426e-be63-95caf464e623",
   "metadata": {},
   "outputs": [
    {
     "name": "stderr",
     "output_type": "stream",
     "text": [
      "Determination of memory status is not supported on this \n",
      " platform, measuring for memoryleaks will never fail\n"
     ]
    }
   ],
   "source": [
    "# From pyOpenMS tutorial page - https://pyopenms.readthedocs.io/en/latest/first_steps.html\n",
    "from pyopenms import MSExperiment, MzMLFile\n",
    "\n",
    "exp = MSExperiment()\n",
    "MzMLFile().store(os.path.join(DATA_DIR, 'testfile.mzML'), exp)\n"
   ]
  },
  {
   "cell_type": "code",
   "execution_count": 4,
   "id": "2f0ee895-66a4-4ac4-b25b-c62e7f0b4d5c",
   "metadata": {},
   "outputs": [],
   "source": [
    "# Get help with Python objects in pyOpenMS\n",
    "# help(MzMLFile)\n",
    "# help(MSExperiment)"
   ]
  },
  {
   "cell_type": "markdown",
   "id": "b67b16db-5540-4b8f-8b8d-b98406f6fc12",
   "metadata": {},
   "source": [
    "## File reading"
   ]
  },
  {
   "cell_type": "code",
   "execution_count": 5,
   "id": "69c3a5dd-231e-4a36-abea-47c949998ee8",
   "metadata": {},
   "outputs": [
    {
     "data": {
      "text/plain": [
       "('/Users/irahorecka/Desktop/Harddrive_Desktop/PhD/University of Toronto/Rotations/Rost Lab/roest-ms/data/tiny.mzML',\n",
       " <http.client.HTTPMessage at 0x7fb06c298640>)"
      ]
     },
     "execution_count": 5,
     "metadata": {},
     "output_type": "execute_result"
    }
   ],
   "source": [
    "import os\n",
    "from urllib.request import urlretrieve\n",
    "\n",
    "# Download small mzML file\n",
    "github_content = \"https://raw.githubusercontent.com/OpenMS/pyopenms-extra/master\"\n",
    "tiny_mzml_filepath = os.path.join(DATA_DIR, \"tiny.mzML\")\n",
    "urlretrieve(f\"{github_content}/src/data/tiny.mzML\", tiny_mzml_filepath)"
   ]
  },
  {
   "cell_type": "code",
   "execution_count": 6,
   "id": "a6be1e06-0d68-44ef-aed8-fa45c297e390",
   "metadata": {},
   "outputs": [],
   "source": [
    "from pyopenms import MSExperiment, MzMLFile\n",
    "\n",
    "exp = MSExperiment()\n",
    "# Load file\n",
    "MzMLFile().load(tiny_mzml_filepath, exp)"
   ]
  },
  {
   "cell_type": "code",
   "execution_count": 7,
   "id": "bbe67f57-4261-4f92-9158-959e3071dad3",
   "metadata": {},
   "outputs": [
    {
     "name": "stdout",
     "output_type": "stream",
     "text": [
      "exp.getNrSpectra() --> 4\n",
      "exp.getNrChromatograms() --> 2\n"
     ]
    }
   ],
   "source": [
    "# tiny_mzml_filepath is loaded onto exp by reference\n",
    "\n",
    "# View help of exp object\n",
    "# help(exp)\n",
    "\n",
    "# We can get information about spectra and chromatograms using the following methods\n",
    "print(\"exp.getNrSpectra() -->\", exp.getNrSpectra())\n",
    "print(\"exp.getNrChromatograms() -->\", exp.getNrChromatograms())"
   ]
  },
  {
   "cell_type": "code",
   "execution_count": 8,
   "id": "edd93748-c247-4e10-bb73-10047faf0802",
   "metadata": {},
   "outputs": [
    {
     "name": "stdout",
     "output_type": "stream",
     "text": [
      "MS Level: 1\n",
      "MS Level: 2\n",
      "MS Level: 1\n",
      "MS Level: 1\n"
     ]
    }
   ],
   "source": [
    "# Iterate through spectra\n",
    "for spectra in exp:\n",
    "    print(\"MS Level:\", spectra.getMSLevel())"
   ]
  },
  {
   "cell_type": "code",
   "execution_count": 9,
   "id": "f7ebd3d5-0be0-4f2a-b449-8869291a9ba5",
   "metadata": {},
   "outputs": [
    {
     "name": "stdout",
     "output_type": "stream",
     "text": [
      "MS Level: 2\n"
     ]
    }
   ],
   "source": [
    "# Use index to get spectrum\n",
    "print(\"MS Level:\", exp[1].getMSLevel())"
   ]
  },
  {
   "cell_type": "code",
   "execution_count": 10,
   "id": "9a8258f6-22c1-4849-bee8-e40014473e00",
   "metadata": {},
   "outputs": [
    {
     "name": "stdout",
     "output_type": "stream",
     "text": [
      "[(0.0, 20.0), (2.0, 18.0), (4.0, 16.0), (6.0, 14.0), (8.0, 12.0), (10.0, 10.0), (12.0, 8.0), (14.0, 6.0), (16.0, 4.0), (18.0, 2.0)]\n",
      "110.0\n"
     ]
    }
   ],
   "source": [
    "# Obtain raw peaks\n",
    "spec = exp[1]\n",
    "mz, intensity = spec.get_peaks()\n",
    "print(list(zip(mz, intensity)))\n",
    "print(sum(intensity))"
   ]
  },
  {
   "cell_type": "markdown",
   "id": "630026de-1f5f-48f8-96b8-9991f1a3a8bd",
   "metadata": {},
   "source": [
    "## Total ion current calculation\n",
    "Here, we will apply what we have learned to calculate the total ion current (TIC). The TIC represents the summed intensity across the entire range of masses being detected at every point in the analysis. Basically, we calculate the total ion current of the whole experiment."
   ]
  },
  {
   "cell_type": "code",
   "execution_count": 11,
   "id": "a420cc6f-1afd-4263-90ad-3f4eb495d0ee",
   "metadata": {},
   "outputs": [],
   "source": [
    "# Define a function that calculates TIC for a given ms level\n",
    "\n",
    "def calcTIC(exp, mslevel):\n",
    "    tic = 0\n",
    "    # Iter through all spectra of the experiment\n",
    "    for spec in exp:\n",
    "    # Only calc TIC for matching MS1 spectra\n",
    "        if spec.getMSLevel() == mslevel:\n",
    "            mz, i = spec.get_peaks()\n",
    "            tic += sum(i)\n",
    "    return tic"
   ]
  },
  {
   "cell_type": "code",
   "execution_count": 12,
   "id": "5f98dd9d-6ddc-4615-80c7-6c9d0f824f44",
   "metadata": {},
   "outputs": [
    {
     "name": "stdout",
     "output_type": "stream",
     "text": [
      "240.0\n",
      "240.0\n",
      "110.0\n"
     ]
    }
   ],
   "source": [
    "# Now let's use our function to calculate the TIC\n",
    "print(calcTIC(exp, 1))\n",
    "# A list comprehension version of the calcTIC function above\n",
    "print(sum([sum(s.get_peaks()[1]) for s in exp if s.getMSLevel() == 1]))\n",
    "print(calcTIC(exp, 2))"
   ]
  },
  {
   "cell_type": "markdown",
   "id": "77908a81-81ea-4977-bc6b-90600ba4d36b",
   "metadata": {},
   "source": [
    "## TIC chromatogram\n",
    "The total ion current is visualized over the retention time, to allow for the inspection of areas with general high intensity (usually multiple analytes were measured there). This can help the experimentalist to optimize the chromatography for a better seperation in a specific area."
   ]
  },
  {
   "cell_type": "code",
   "execution_count": 13,
   "id": "c7db4b19-fa01-4899-a473-73953deadbac",
   "metadata": {},
   "outputs": [
    {
     "data": {
      "image/png": "[encoded data removed]",
      "text/plain": [
       "<Figure size 432x288 with 1 Axes>"
      ]
     },
     "metadata": {
      "needs_background": "light"
     },
     "output_type": "display_data"
    }
   ],
   "source": [
    "# Let's use matplotlib to visualize our TIC chromatogram\n",
    "import matplotlib.pyplot as plt\n",
    "from urllib.request import urlretrieve \n",
    "\n",
    "# retrieve MS data\n",
    "gh = \"https://raw.githubusercontent.com/OpenMS/pyopenms-extra/master\"\n",
    "output_ms_data = os.path.join(DATA_DIR, \"ms_data.mzML\")\n",
    "urlretrieve (gh + \"/src/data/FeatureFinderMetaboIdent_1_input.mzML\", output_ms_data)\n",
    "\n",
    "# load MS data into MSExperiment()\n",
    "exp = MSExperiment()\n",
    "MzMLFile().load(output_ms_data, exp)\n",
    "\n",
    "# choose one of the following three methods to access the TIC data\n",
    "# 1) recalculate TIC data with the calculateTIC() function\n",
    "tic = exp.calculateTIC()\n",
    "retention_times, intensities = tic.get_peaks()\n",
    "\n",
    "# 2) get TIC data using list comprehensions\n",
    "retention_times = [spec.getRT() for spec in exp]\n",
    "intensities = [sum(spec.get_peaks()[1]) for spec in exp if spec.getMSLevel() == 1]\n",
    "\n",
    "# 3) get TIC data looping over spectra in MSExperiment()\n",
    "retention_times = []\n",
    "intensities = []\n",
    "for spec in exp:\n",
    "    if spec.getMSLevel() == 1:\n",
    "        retention_times.append(spec.getRT())\n",
    "        intensities.append(sum(spec.get_peaks()[1]))\n",
    "\n",
    "# plot retention times and intensities and add labels\n",
    "plt.plot(retention_times, intensities)\n",
    "\n",
    "plt.title('TIC')\n",
    "plt.xlabel('time (s)')\n",
    "plt.ylabel('intensity (cps)')\n",
    "\n",
    "plt.show()"
   ]
  },
  {
   "cell_type": "markdown",
   "id": "913e1df3-ef1e-4248-8776-5b38aad9bd98",
   "metadata": {},
   "source": [
    "## Spectrum\n",
    "`MSSpectrum` is the most important container for raw data and peaks. `MSSpectrum` is a container for 1D peak data (container for `Peak1D`). You can directly access these objects, however it is faster to use `get_peaks()` and `set_peaks` functions. These functions use numpy arrays for raw data access. Access spectrum metadata through `SpectrumSettings`.\n",
    "\n",
    "In the example below, let's instantiate the `MSSpectrum` with peaks, sort the peaks according to m/z ratio, and finally let's display peak positions."
   ]
  },
  {
   "cell_type": "code",
   "execution_count": 14,
   "id": "e1fc21f0-1d71-4982-8b17-3ab2a55e5b1e",
   "metadata": {},
   "outputs": [
    {
     "name": "stdout",
     "output_type": "stream",
     "text": [
      "600.0 0.0\n",
      "700.0 0.0\n",
      "800.0 0.0\n",
      "900.0 0.0\n",
      "1000.0 0.0\n",
      "1100.0 0.0\n",
      "1200.0 0.0\n",
      "1300.0 0.0\n",
      "1400.0 0.0\n",
      "1500.0 0.0\n",
      "600.0 0.0\n",
      "700.0 0.0\n",
      "800.0 0.0\n",
      "900.0 0.0\n",
      "1000.0 0.0\n",
      "1100.0 0.0\n",
      "1200.0 0.0\n",
      "1300.0 0.0\n",
      "1400.0 0.0\n",
      "1500.0 0.0\n",
      "800.0 0.0\n"
     ]
    }
   ],
   "source": [
    "from pyopenms import MSSpectrum\n",
    "\n",
    "spectrum = MSSpectrum()\n",
    "mz = range(1500, 500, -100)\n",
    "# i --> intensity\n",
    "i = [0 for mass in mz]\n",
    "spectrum.set_peaks([mz, i])\n",
    "\n",
    "# Sort peak according to ascending m/z ratio\n",
    "spectrum.sortByPosition()\n",
    "\n",
    "# Iterate over spectrum of those peaks\n",
    "# This process is expensive and should NOT be used in production code\n",
    "# Direct access to the Peak1D object is expensive and should NOT be done\n",
    "for p in spectrum:\n",
    "    # p --> Peak1D object\n",
    "    print(p.getMZ(), p.getIntensity())\n",
    "    \n",
    "# More efficient peak access can be achieved with get_peaks()\n",
    "# Unpack tuple to allow 1-to-1 zipping\n",
    "for mz, i in zip(*spectrum.get_peaks()):\n",
    "    print(mz, i)\n",
    "    \n",
    "# Again, you can access a peak by its index\n",
    "print(spectrum[2].getMZ(), spectrum[2].getIntensity())"
   ]
  },
  {
   "cell_type": "code",
   "execution_count": 15,
   "id": "a21431b3-31d0-4fa6-9b4a-137a68e4c762",
   "metadata": {},
   "outputs": [
    {
     "name": "stdout",
     "output_type": "stream",
     "text": [
      "scan polarity: positive\n"
     ]
    }
   ],
   "source": [
    "from pyopenms import (MSExperiment, MSSpectrum, Precursor,\n",
    "                      InstrumentSettings, FloatDataArray, StringDataArray,\n",
    "                      IonSource)\n",
    "\n",
    "# create spectrum and set properties\n",
    "spectrum = MSSpectrum()\n",
    "spectrum.setDriftTime(25) # 25 ms\n",
    "spectrum.setRT(205.2) # 205.2 s\n",
    "spectrum.setMSLevel(3) # MS3\n",
    "\n",
    "# Add peak(s) to spectrum\n",
    "spectrum.set_peaks( ([401.5], [900]) )\n",
    "\n",
    "# create precursor information\n",
    "p = Precursor()\n",
    "p.setMZ(600) # isolation at 600 +/- 1.5 Th\n",
    "p.setIsolationWindowLowerOffset(1.5)\n",
    "p.setIsolationWindowUpperOffset(1.5)\n",
    "p.setActivationEnergy(40) # 40 eV\n",
    "p.setCharge(4) # 4+ ion\n",
    "\n",
    "# and store precursor in spectrum\n",
    "spectrum.setPrecursors([p])\n",
    "\n",
    "# set additional instrument settings (e.g. scan polarity)\n",
    "IS = InstrumentSettings()\n",
    "IS.setPolarity(IonSource.Polarity.POSITIVE)\n",
    "spectrum.setInstrumentSettings(IS)\n",
    "\n",
    "# get and check scan polarity\n",
    "polarity = spectrum.getInstrumentSettings().getPolarity()\n",
    "if (polarity == IonSource.Polarity.POSITIVE):\n",
    "    print(\"scan polarity: positive\")\n",
    "elif (polarity == IonSource.Polarity.NEGATIVE):\n",
    "    print(\"scan polarity: negative\")\n",
    "\n",
    "# Optional: additional data arrays / peak annotations\n",
    "fda = FloatDataArray()\n",
    "fda.setName(\"Signal to Noise Array\")\n",
    "fda.push_back(15)\n",
    "sda = StringDataArray()\n",
    "sda.setName(\"Peak annotation\")\n",
    "sda.push_back(\"y15++\")\n",
    "spectrum.setFloatDataArrays( [fda] )\n",
    "spectrum.setStringDataArrays( [sda] )\n",
    "\n",
    "# Add spectrum to MSExperiment\n",
    "exp = MSExperiment()\n",
    "exp.addSpectrum(spectrum)\n",
    "\n",
    "# Add second spectrum to the MSExperiment\n",
    "spectrum2 = MSSpectrum()\n",
    "spectrum2.set_peaks( ([1, 2], [1, 2]) )\n",
    "exp.addSpectrum(spectrum2)\n",
    "\n",
    "output_test_file = os.path.join(DATA_DIR, \"testfile.mzML\")\n",
    "# store spectra in mzML file\n",
    "MzMLFile().store(output_test_file, exp)"
   ]
  },
  {
   "cell_type": "markdown",
   "id": "d76a395d-6fe4-4b8e-b774-328782874d7e",
   "metadata": {},
   "source": [
    "## What just happened above?\n",
    "\n",
    "- We created a single spectrum and set basic spectrum properties\n",
    "    - drift time\n",
    "    - RT\n",
    "    - MS level\n",
    "    - precursor charge\n",
    "    - isolation window\n",
    "    - activation energy\n",
    "- We also set instrument settings (i.e. polarity of ion source)\n",
    "- We then added actual peaks to the spectrum\n",
    "    - 401.5 m/z with 900 intensity\n",
    "- We then instantiated an MSExperiment object and saved our results to an .mzML file\n",
    "\n",
    "We can view this .mzML file in TOPPView, an application that is installed with OpenMS.\n",
    "We can also view our spectrum with matplotlib, as follows:"
   ]
  },
  {
   "cell_type": "code",
   "execution_count": 16,
   "id": "b20cca70-8153-4f2e-8b6e-6ff15d1197a3",
   "metadata": {},
   "outputs": [
    {
     "data": {
      "image/png": "[encoded data removed]",
      "text/plain": [
       "<Figure size 432x288 with 1 Axes>"
      ]
     },
     "metadata": {
      "needs_background": "light"
     },
     "output_type": "display_data"
    }
   ],
   "source": [
    "import matplotlib.pyplot as plt\n",
    "\n",
    "def plot_spectrum(spectrum):\n",
    "    # plot every peak in spectrum and annotate with it's m/z\n",
    "    for mz, i in zip(*spectrum.get_peaks()):\n",
    "        plt.plot([mz, mz], [0, i], color = 'black')\n",
    "        plt.text(mz, i, str(mz))\n",
    "\n",
    "    # for the title add RT and Precursor m/z if available\n",
    "    title = ''\n",
    "    if spectrum.getRT() >= 0:\n",
    "        title += 'RT: ' + str(spectrum.getRT())\n",
    "    if len(spectrum.getPrecursors()) >= 1:\n",
    "        title += '   Precursor m/z: ' + str(spectrum.getPrecursors()[0].getMZ())\n",
    "\n",
    "    plt.title(title)\n",
    "    plt.ylabel('intensity')\n",
    "    plt.xlabel('m/z')\n",
    "    plt.ylim(bottom=0)\n",
    "\n",
    "    plt.show()\n",
    "\n",
    "# plotting out spectrum that was defined earlier\n",
    "plot_spectrum(spectrum)"
   ]
  },
  {
   "cell_type": "markdown",
   "id": "37554471-188d-43b5-bf0b-fadef1bc4bf8",
   "metadata": {},
   "source": [
    "## Chromatogram\n",
    "We can use the MSChromatogram class, which is similar to the MSSpectrum class, but contains ChromatogramPeak and is derived from ChromatogramSettings"
   ]
  },
  {
   "cell_type": "code",
   "execution_count": 17,
   "id": "70362a85-7abf-4381-8a1a-82b21376c170",
   "metadata": {},
   "outputs": [
    {
     "name": "stdout",
     "output_type": "stream",
     "text": [
      "600.0 0.003865920240059495\n",
      "700.0 0.000335462624207139\n",
      "800.0 1.866446837084368e-05\n",
      "900.0 6.658361257905199e-07\n",
      "1000.0 1.5229979055675358e-08\n",
      "1100.0 2.2336314742243957e-10\n",
      "1200.0 2.100409256244884e-12\n",
      "1300.0 1.2664165777252073e-14\n",
      "1400.0 4.895865324380882e-17\n",
      "1500.0 1.2135636560129653e-19\n",
      "600.0 0.0038659202\n",
      "700.0 0.00033546262\n",
      "800.0 1.8664468e-05\n",
      "900.0 6.658361e-07\n",
      "1000.0 1.5229979e-08\n",
      "1100.0 2.2336315e-10\n",
      "1200.0 2.1004093e-12\n",
      "1300.0 1.2664166e-14\n",
      "1400.0 4.8958653e-17\n",
      "1500.0 1.2135637e-19\n",
      "800.0 1.866446837084368e-05\n"
     ]
    }
   ],
   "source": [
    "import numpy as np\n",
    "from pyopenms import MSChromatogram, Product\n",
    "\n",
    "def gaussian(x, mu, sig):\n",
    "    return np.exp(-np.power(x - mu, 2.) / (2 * np.power(sig, 2.)))\n",
    "\n",
    "# Create new chromatogram\n",
    "chromatogram = MSChromatogram()\n",
    "\n",
    "# Set raw data (RT and intensity)\n",
    "rt = range(1500, 500, -100)\n",
    "i = [gaussian(rtime, 100, 150) for rtime in rt]\n",
    "chromatogram.set_peaks([rt, i])\n",
    "\n",
    "# Sort peaks according to ascending retention time\n",
    "chromatogram.sortByPosition()\n",
    "\n",
    "# Iterate over chromatogram of those peaks\n",
    "for p in chromatogram:\n",
    "    print(p.getRT(), p.getIntensity())\n",
    "    \n",
    "# Here's a more efficient peak access using the get_peaks() method\n",
    "for rt, i in zip(*chromatogram.get_peaks()):\n",
    "    print(rt, i)\n",
    "    \n",
    "# Again, let's access a peak by its index\n",
    "print(chromatogram[2].getRT(), chromatogram[2].getIntensity())\n",
    "\n",
    "# Let's add metadata to our chromatogram\n",
    "chromatogram.setNativeID(\"Trace XIC@405.2\")\n",
    "\n",
    "# Let's add a precursor ion for the chromatogram\n",
    "p = Precursor()\n",
    "p.setIsolationWindowLowerOffset(1.5)\n",
    "p.setIsolationWindowUpperOffset(1.5)\n",
    "p.setMZ(405.2)  # isolation at 405.2 +/- 1.5 Th\n",
    "p.setActivationEnergy(40)  # 40 eV\n",
    "p.setCharge(2)\n",
    "p.setMetaValue(\"description\", chromatogram.getNativeID())\n",
    "p.setMetaValue(\"peptide_sequence\", chromatogram.getNativeID())\n",
    "chromatogram.setPrecursor(p)\n",
    "\n",
    "# Also store a product ion for the chromatogram (e.g., for SRM)\n",
    "p = Product()\n",
    "p.setMZ(603.4)  # Transition from 405.2 --> 603.4\n",
    "chromatogram.setProduct(p)\n",
    "\n",
    "# Finally, instantiate a new experiment and store chromatogram as an mzML file\n",
    "exp = MSExperiment()\n",
    "exp.addChromatogram(chromatogram)\n",
    "output_file_test3 = os.path.join(DATA_DIR, \"testfile3.mzML\")\n",
    "MzMLFile().store(output_file_test3, exp)"
   ]
  },
  {
   "cell_type": "code",
   "execution_count": 18,
   "id": "9a7d80da-5be6-404a-9ed9-feb5ce69f44b",
   "metadata": {},
   "outputs": [
    {
     "data": {
      "image/png": "[encoded data removed]",
      "text/plain": [
       "<Figure size 432x288 with 1 Axes>"
      ]
     },
     "metadata": {
      "needs_background": "light"
     },
     "output_type": "display_data"
    }
   ],
   "source": [
    "# Now let's visualize our exported file in matplotlib\n",
    "\n",
    "import matplotlib.pyplot as plt\n",
    "\n",
    "for chrom in exp.getChromatograms():\n",
    "    retention_times, intensities = chrom.get_peaks()\n",
    "    plt.plot(retention_times, intensities, label=chrom.getNativeID())\n",
    "    \n",
    "plt.xlabel('time (s)')\n",
    "plt.ylabel('intensity (cps)')\n",
    "plt.legend()\n",
    "plt.show()"
   ]
  },
  {
   "cell_type": "markdown",
   "id": "3c7eef94-f7ed-4a63-ab5b-e38a5de7ef8c",
   "metadata": {},
   "source": [
    "What we see above shows that the `MSExperiment` class can hold:\n",
    "    \n",
    "    - spectra\n",
    "    - chromatograms"
   ]
  },
  {
   "cell_type": "markdown",
   "id": "f5c3bab2-b237-46cf-bfed-68909eb95c69",
   "metadata": {},
   "source": [
    "## Now let's take a look at working with LC-MS/MS Experiment\n",
    "\n",
    "In OpenMS, LC-MS/MS injections are represented as so-called peak maps (we can use the `MSExperiment` class here).\n",
    "`MSExperiment` can hold peak maps as well as metadata about the injections.\n",
    "Access to individual spectra is performed through `MSExperiment.getSpectrum` and `MSExperiment.getChromatogram`\n",
    "\n",
    "Let's see an example of this below"
   ]
  },
  {
   "cell_type": "code",
   "execution_count": 19,
   "id": "d229748b-b8f5-4b38-a856-c2496bf612dd",
   "metadata": {},
   "outputs": [
    {
     "name": "stdout",
     "output_type": "stream",
     "text": [
      "5.0 500.0 37.5\n",
      "5.0 600.0 37.5\n",
      "5.0 700.0 37.5\n",
      "5.0 800.0 37.5\n",
      "5.0 501.0 62.5\n",
      "5.0 601.0 62.5\n",
      "5.0 701.0 62.5\n",
      "5.0 801.0 62.5\n",
      "5.0 502.0 87.5\n",
      "5.0 602.0 87.5\n",
      "5.0 702.0 87.5\n",
      "5.0 802.0 87.5\n",
      "5.0 503.0 87.5\n",
      "5.0 603.0 87.5\n",
      "5.0 703.0 87.5\n",
      "5.0 803.0 87.5\n",
      "5.0 504.0 62.5\n",
      "5.0 604.0 62.5\n",
      "5.0 704.0 62.5\n",
      "5.0 804.0 62.5\n",
      "5.0 505.0 37.5\n",
      "5.0 605.0 37.5\n",
      "5.0 705.0 37.5\n",
      "5.0 805.0 37.5\n"
     ]
    }
   ],
   "source": [
    "# Create an MSExperiment instance with six MSSpectrum instances\n",
    "\n",
    "from pyopenms import MSExperiment, MSSpectrum, Peak1D\n",
    "\n",
    "exp = MSExperiment()\n",
    "for i in range(6):\n",
    "    spectrum = MSSpectrum()\n",
    "    spectrum.setRT(i)\n",
    "    spectrum.setMSLevel(1)\n",
    "    for mz in range(500, 900, 100):\n",
    "        peak = Peak1D()\n",
    "        peak.setMZ(mz + i)\n",
    "        peak.setIntensity(100 - 25*abs(i-2.5))\n",
    "        spectrum.push_back(peak)\n",
    "    exp.addSpectrum(spectrum)\n",
    "    \n",
    "# Now iterate over spectra\n",
    "for spect in exp:\n",
    "    for peak in spect:\n",
    "        print(spectrum.getRT(), peak.getMZ(), peak.getIntensity())"
   ]
  },
  {
   "cell_type": "markdown",
   "id": "4c7288d7-b656-4015-9b7d-8d903959d4dd",
   "metadata": {},
   "source": [
    "What we did above is create 6 instances of `MSSpectrum`, populate it with peaks @ 500, 900, and 100 m/z, and append the group to `MSExperiment`."
   ]
  },
  {
   "cell_type": "code",
   "execution_count": 20,
   "id": "85552633-49d3-4aaf-aef3-4556ae2ebab9",
   "metadata": {},
   "outputs": [
    {
     "name": "stdout",
     "output_type": "stream",
     "text": [
      "700.0\n"
     ]
    }
   ],
   "source": [
    "# We can instead iterate over the spectra using a list comprehension and sum the intensities\n",
    "# Sum intensity of all spectra between RT 2.0 and 3.0\n",
    "print(sum([p.getIntensity() for s in exp if s.getRT() >= 2.0 and s.getRT() <= 3.0 for p in s]))"
   ]
  },
  {
   "cell_type": "code",
   "execution_count": 21,
   "id": "fca989a7-4b6c-4d35-9aaa-1fe2144feacb",
   "metadata": {},
   "outputs": [],
   "source": [
    "# Again, we can store our experiment as an .mzML file\n",
    "output_test_data2 = os.path.join(DATA_DIR, 'testfile2.mzML')\n",
    "MzMLFile().store(output_test_data2, exp)"
   ]
  },
  {
   "cell_type": "markdown",
   "id": "0b859e4b-b061-459f-a640-f6cedc2198ba",
   "metadata": {},
   "source": [
    "You can view the above file (`testfile2.mzML`) in TOPPView (3D mode)\n",
    "\n",
    "OR you can view the data directly with Python using `matplotlib`."
   ]
  },
  {
   "cell_type": "code",
   "execution_count": 22,
   "id": "f15e57dd-eced-4dbc-beba-5f82c59b5b5f",
   "metadata": {},
   "outputs": [
    {
     "name": "stdout",
     "output_type": "stream",
     "text": [
      "collecting peak data...\n",
      "showing plot...\n"
     ]
    },
    {
     "data": {
      "image/png": "[encoded data removed]",
      "text/plain": [
       "<Figure size 432x288 with 2 Axes>"
      ]
     },
     "metadata": {
      "needs_background": "light"
     },
     "output_type": "display_data"
    }
   ],
   "source": [
    "import numpy as np\n",
    "import matplotlib.pyplot as plt\n",
    "import matplotlib.colors as colors\n",
    "\n",
    "def plot_spectra_2D(exp, ms_level=1, marker_size = 5):\n",
    "    exp.updateRanges()\n",
    "    print('collecting peak data...')\n",
    "    for spec in exp:\n",
    "        if spec.getMSLevel() == ms_level:\n",
    "            mz, intensity = spec.get_peaks()\n",
    "            p = intensity.argsort() # sort by intensity to plot highest on top\n",
    "            rt = np.full([mz.shape[0]], spec.getRT(), float)\n",
    "            plt.scatter(rt, mz[p], c = intensity[p], cmap = 'afmhot_r', s=marker_size,\n",
    "                        norm=colors.LogNorm(exp.getMinInt()+1, exp.getMaxInt()))\n",
    "    plt.clim(exp.getMinInt()+1, exp.getMaxInt())\n",
    "    plt.xlabel('time (s)')\n",
    "    plt.ylabel('m/z')\n",
    "    plt.colorbar()\n",
    "    print('showing plot...')\n",
    "    plt.show() # slow for larger data sets\n",
    "\n",
    "from urllib.request import urlretrieve\n",
    "\n",
    "gh = \"https://raw.githubusercontent.com/OpenMS/pyopenms-extra/master\"\n",
    "output_filepath = os.path.join(DATA_DIR, 'test.mzML')\n",
    "urlretrieve (gh + \"/src/data/FeatureFinderMetaboIdent_1_input.mzML\", output_filepath)\n",
    "\n",
    "exp = MSExperiment()\n",
    "MzMLFile().load(output_filepath, exp)\n",
    "\n",
    "plot_spectra_2D(exp)"
   ]
  },
  {
   "cell_type": "markdown",
   "id": "7c4cc9fa-4390-4fe2-9135-ccca6ae29319",
   "metadata": {},
   "source": [
    "For larger datasets this will be too slow, as every individual peak is rendered.\n",
    "\n",
    "We can instead use `BilinearInterpolation` to produce an overview image of our spectra.\n",
    "\n",
    "This is useful for brief inspection of your sample for QC"
   ]
  },
  {
   "cell_type": "code",
   "execution_count": 23,
   "id": "6c32fcc0-f42f-4670-ab73-e74bce939b98",
   "metadata": {},
   "outputs": [
    {
     "name": "stdout",
     "output_type": "stream",
     "text": [
      "collecting peak data...\n",
      "showing plot...\n"
     ]
    },
    {
     "data": {
      "image/png": "[encoded data removed]",
      "text/plain": [
       "<Figure size 432x288 with 1 Axes>"
      ]
     },
     "metadata": {
      "needs_background": "light"
     },
     "output_type": "display_data"
    }
   ],
   "source": [
    "import numpy as np\n",
    "import matplotlib.pyplot as plt\n",
    "\n",
    "from pyopenms import BilinearInterpolation\n",
    "\n",
    "def plot_spectra_2D_overview(experiment):\n",
    "    rows = 200.0\n",
    "    cols = 200.0\n",
    "    exp.updateRanges()\n",
    "\n",
    "    bilip = BilinearInterpolation()\n",
    "    tmp = bilip.getData()\n",
    "    tmp.resize(int(rows), int(cols), float())\n",
    "    bilip.setData(tmp)\n",
    "    bilip.setMapping_0(0.0, exp.getMinRT(), rows-1, exp.getMaxRT())\n",
    "    bilip.setMapping_1(0.0, exp.getMinMZ(), cols-1, exp.getMaxMZ())\n",
    "    print('collecting peak data...')\n",
    "    for spec in exp:\n",
    "        if spec.getMSLevel() == 1:\n",
    "            mzs, ints = spec.get_peaks()\n",
    "            rt = spec.getRT()\n",
    "            for i in range(0, len(mzs)):\n",
    "                bilip.addValue(rt, mzs[i], ints[i])\n",
    "\n",
    "    data = np.ndarray(shape=(int(cols), int(rows)), dtype=np.float64)\n",
    "    for i in range(int(rows)):\n",
    "        for j in range(int(cols)):\n",
    "            data[i][j] = bilip.getData().getValue(i,j)\n",
    "\n",
    "    plt.imshow(np.rot90(data), cmap='gist_heat_r')\n",
    "    plt.xlabel('retention time (s)')\n",
    "    plt.ylabel('m/z')\n",
    "    plt.xticks(np.linspace(0,int(rows),20, dtype=int),\n",
    "            np.linspace(exp.getMinRT(),exp.getMaxRT(),20, dtype=int))\n",
    "    plt.yticks(np.linspace(0,int(cols),20, dtype=int),\n",
    "            np.linspace(exp.getMinMZ(),exp.getMaxMZ(),20, dtype=int)[::-1])\n",
    "    print('showing plot...')\n",
    "    plt.show()\n",
    "\n",
    "plot_spectra_2D_overview(exp)\n"
   ]
  },
  {
   "cell_type": "markdown",
   "id": "c5f427b3-119a-404b-ad65-4f6a61a61448",
   "metadata": {},
   "source": [
    "## Inspecting Precursor Purity\n",
    "\n",
    "When an MS/MS spectrum is generated, the precursor from the MS1 spectrum is gathered, fragmented, and measured.\n",
    "\n",
    "In reality, the m/z isolation is actually a window - everything within this window is fragmented.\n",
    "\n",
    "It goes to say that there will be contaminants in this precursor isolation window. This can lead to issues in quantification of samples.\n",
    "\n",
    "Let's assess precursor purity and filter spectra that fall below our defined score threshold."
   ]
  },
  {
   "cell_type": "code",
   "execution_count": 24,
   "id": "e086b0a0-1c3e-42f7-a9dc-149114bd9cd2",
   "metadata": {},
   "outputs": [
    {
     "name": "stdout",
     "output_type": "stream",
     "text": [
      "1\n",
      "2\n",
      "2\n",
      "2\n",
      "2\n",
      "2\n",
      "1\n",
      "9098343.890625\n",
      "7057944.0\n",
      "0.7757394186070014\n",
      "1\n",
      "4\n"
     ]
    }
   ],
   "source": [
    "from pyopenms import MSExperiment, Precursor, PrecursorPurity\n",
    "\n",
    "gh = \"https://raw.githubusercontent.com/OpenMS/pyopenms-extra/master\"\n",
    "ouput_filepath = os.path.join(DATA_DIR, \"PrecursorPurity_input.mzML\")\n",
    "urlretrieve (gh + \"/src/data/PrecursorPurity_input.mzML\", output_filepath)\n",
    "\n",
    "exp = MSExperiment()\n",
    "MzMLFile().load(output_filepath, exp)\n",
    "\n",
    "# for this example, we check which are MS2 spectra and choose one of them\n",
    "for element in exp:\n",
    "    print(element.getMSLevel())\n",
    "\n",
    "# get the precursor information from the MS2 spectrum at index 3\n",
    "ms2_precursor = Precursor()\n",
    "ms2_precursor = exp[3].getPrecursors()[0];\n",
    "\n",
    "# get the previous recorded MS1 spectrum\n",
    "isMS1 = False;\n",
    "i = 3 # start at the index of the MS2 spectrum\n",
    "while isMS1 == False:\n",
    "    if exp[i].getMSLevel() == 1:\n",
    "        isMS1 = True\n",
    "    else:\n",
    "        i -= 1\n",
    "\n",
    "ms1_spectrum = exp[i]\n",
    "\n",
    "# calculate the precursor purity in a 10 ppm precursor isolation window\n",
    "purity_score = PrecursorPurity().computePrecursorPurity(ms1_spectrum, ms2_precursor, 10, True)\n",
    "\n",
    "print(purity_score.total_intensity) # 9098343.890625\n",
    "print(purity_score.target_intensity) # 7057944.0\n",
    "print(purity_score.signal_proportion) # 0.7757394186070014\n",
    "print(purity_score.target_peak_count) # 1\n",
    "print(purity_score.residual_peak_count) # 4\n"
   ]
  },
  {
   "cell_type": "markdown",
   "id": "177275b6-392e-4496-bec6-0c8d25e8b059",
   "metadata": {},
   "source": [
    "In the above example, we can say that the signal of the isotopic peaks correspond to roughly 78% of all intensities in the precursor isolation window."
   ]
  },
  {
   "cell_type": "markdown",
   "id": "e0e635ec-aec5-4d46-be92-75c05432abb0",
   "metadata": {},
   "source": [
    "## Taking a look at filtering spectra\n",
    "\n",
    "Here we will go through the various filtering methods we can use on our spectra data."
   ]
  },
  {
   "cell_type": "code",
   "execution_count": 25,
   "id": "b291cb4b-3df2-4775-9422-dd47ba74db5c",
   "metadata": {},
   "outputs": [],
   "source": [
    "# Load data\n",
    "from pyopenms import MSExperiment, MzMLFile\n",
    "\n",
    "gh = \"https://raw.githubusercontent.com/OpenMS/pyopenms-extra/master\"\n",
    "output_filepath = os.path.join(DATA_DIR, 'test.mzML')\n",
    "urlretrieve (gh + \"/src/data/tiny.mzML\", output_filepath)\n",
    "\n",
    "inp = MSExperiment()\n",
    "MzMLFile().load(output_filepath, inp)"
   ]
  },
  {
   "cell_type": "code",
   "execution_count": 26,
   "id": "576aa8bc-249e-4c95-9d0a-d18b96bbf113",
   "metadata": {},
   "outputs": [],
   "source": [
    "# Filter spectra by MS level\n",
    "# Let's filter all MS spectra that IS NOT MS1\n",
    "filtered = MSExperiment()\n",
    "for s in inp:\n",
    "    if s.getMSLevel() > 1:\n",
    "        filtered.addSpectrum(s)\n"
   ]
  },
  {
   "cell_type": "code",
   "execution_count": 27,
   "id": "28bd9009-8634-4733-8d98-69e7ee0e05de",
   "metadata": {},
   "outputs": [],
   "source": [
    "# We can also use scan numbers to filter spectra we are interested in.\n",
    "scan_nrs = [0, 2, 5, 7]\n",
    "\n",
    "filtered = MSExperiment()\n",
    "for k, s in enumerate(inp):\n",
    "    if k in scan_nrs:\n",
    "        filtered.addSpectrum(s)"
   ]
  },
  {
   "cell_type": "code",
   "execution_count": 28,
   "id": "3626350b-b941-49b6-967f-145ee256d1d5",
   "metadata": {},
   "outputs": [],
   "source": [
    "# If we are only interested in a small m/z window of our fragment\n",
    "# ion spectra, we can filter our data like so:\n",
    "\n",
    "mz_start = 6.0\n",
    "mz_end = 12.0\n",
    "filtered = MSExperiment()\n",
    "for s in inp:\n",
    "    if s.getMSLevel() > 1:\n",
    "        filtered_mz = []\n",
    "        filtered_int = []\n",
    "        for mz, i in zip(*s.get_peaks()):\n",
    "            if mz > mz_start and mz < mz_end:\n",
    "                filtered_mz.append(mz)\n",
    "                filtered_int.append(i)\n",
    "        s.set_peaks((filtered_mz, filtered_int))\n",
    "        filtered.addSpectrum(s)\n",
    "        \n",
    "# `filtered` will now only contain spectra with peaks in range [`mz_start`, and `mz_end`]\n",
    "# In real-world applications, we'd set `mz_start` and `mz_end` to a relevant range"
   ]
  },
  {
   "cell_type": "code",
   "execution_count": null,
   "id": "8d5dcd74-f81f-4f87-b152-3ed69fb41578",
   "metadata": {},
   "outputs": [],
   "source": []
  }
 ],
 "metadata": {
  "kernelspec": {
   "display_name": "roest-lab",
   "language": "python",
   "name": "roest-lab"
  },
  "language_info": {
   "codemirror_mode": {
    "name": "ipython",
    "version": 3
   },
   "file_extension": ".py",
   "mimetype": "text/x-python",
   "name": "python",
   "nbconvert_exporter": "python",
   "pygments_lexer": "ipython3",
   "version": "3.8.12"
  }
 },
 "nbformat": 4,
 "nbformat_minor": 5
}
