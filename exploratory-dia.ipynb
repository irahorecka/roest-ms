{
 "cells": [
  {
   "cell_type": "markdown",
   "id": "63ae871e-d6d8-4961-b44e-08acea5711e3",
   "metadata": {},
   "source": [
    "# Exploratory DIA analysis\n",
    "### Ira Horecka, Winter 2022, Hannes Roest"
   ]
  },
  {
   "cell_type": "code",
   "execution_count": null,
   "id": "652d4cba-c51d-4380-a2fc-caa252cea96b",
   "metadata": {},
   "outputs": [],
   "source": []
  }
 ],
 "metadata": {
  "kernelspec": {
   "display_name": "roest-lab",
   "language": "python",
   "name": "roest-lab"
  },
  "language_info": {
   "codemirror_mode": {
    "name": "ipython",
    "version": 3
   },
   "file_extension": ".py",
   "mimetype": "text/x-python",
   "name": "python",
   "nbconvert_exporter": "python",
   "pygments_lexer": "ipython3",
   "version": "3.8.12"
  }
 },
 "nbformat": 4,
 "nbformat_minor": 5
}