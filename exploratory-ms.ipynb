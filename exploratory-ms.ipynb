{
 "cells": [
  {
   "cell_type": "markdown",
   "id": "10ff9586-6bf8-4ac3-b90b-b3eeec816d53",
   "metadata": {},
   "source": [
    "# Roest Lab Jupyter Notebook for Exploratory Data Analysis\n",
    "This notebook is configured to the `roest-lab` virtual environment. Please ensure you have the `roest-lab` kernel activated when using this notebook.\n",
    "\n",
    "## Required PyPI packages\n",
    "- `numpy`\n",
    "- `pyopenms`\n",
    "\n",
    "## Auxiliary PyPI packages for data analysis\n",
    "- `matplotlib`"
   ]
  },
  {
   "cell_type": "code",
   "execution_count": 1,
   "id": "caa27244-2270-491a-9f0a-0e24f758be66",
   "metadata": {},
   "outputs": [
    {
     "name": "stdout",
     "output_type": "stream",
     "text": [
      "Welcome to the Roest Lab Exploratory MS Jupyter Notebook!\n"
     ]
    }
   ],
   "source": [
    "print(\"Welcome to the Roest Lab Exploratory MS Jupyter Notebook!\")"
   ]
  },
  {
   "cell_type": "code",
   "execution_count": 8,
   "id": "8148ad46-0299-429a-a4a6-7abdfe8b7aee",
   "metadata": {},
   "outputs": [],
   "source": [
    "# Set common directories\n",
    "import os\n",
    "\n",
    "BASE_DIR = os.path.abspath(os.getcwd())\n",
    "DATA_DIR = os.path.join(BASE_DIR, 'data')"
   ]
  },
  {
   "cell_type": "code",
   "execution_count": 9,
   "id": "7bcce104-ea22-426e-be63-95caf464e623",
   "metadata": {},
   "outputs": [],
   "source": [
    "# From pyOpenMS tutorial page - https://pyopenms.readthedocs.io/en/latest/first_steps.html\n",
    "from pyopenms import MSExperiment, MzMLFile\n",
    "\n",
    "exp = MSExperiment()\n",
    "MzMLFile().store(os.path.join(DATA_DIR, 'testfile.mzML'), exp)\n"
   ]
  },
  {
   "cell_type": "code",
   "execution_count": 10,
   "id": "2f0ee895-66a4-4ac4-b25b-c62e7f0b4d5c",
   "metadata": {},
   "outputs": [],
   "source": [
    "# Get help with Python objects in pyOpenMS\n",
    "# help(MzMLFile)\n",
    "# help(MSExperiment)"
   ]
  },
  {
   "cell_type": "markdown",
   "id": "b67b16db-5540-4b8f-8b8d-b98406f6fc12",
   "metadata": {},
   "source": [
    "## File reading"
   ]
  },
  {
   "cell_type": "code",
   "execution_count": 11,
   "id": "69c3a5dd-231e-4a36-abea-47c949998ee8",
   "metadata": {},
   "outputs": [
    {
     "data": {
      "text/plain": [
       "('/Users/irahorecka/Desktop/Harddrive_Desktop/PhD/University of Toronto/Rotations/Rost Lab/roest-ms/data/tiny.mzML',\n",
       " <http.client.HTTPMessage at 0x7f9f90d9c490>)"
      ]
     },
     "execution_count": 11,
     "metadata": {},
     "output_type": "execute_result"
    }
   ],
   "source": [
    "import os\n",
    "from urllib.request import urlretrieve\n",
    "\n",
    "# Download small mzML file\n",
    "github_content = \"https://raw.githubusercontent.com/OpenMS/pyopenms-extra/master\"\n",
    "tiny_mzml_filepath = os.path.join(DATA_DIR, \"tiny.mzML\")\n",
    "urlretrieve(f\"{github_content}/src/data/tiny.mzML\", tiny_mzml_filepath)"
   ]
  },
  {
   "cell_type": "code",
   "execution_count": 12,
   "id": "a6be1e06-0d68-44ef-aed8-fa45c297e390",
   "metadata": {},
   "outputs": [],
   "source": [
    "from pyopenms import MSExperiment, MzMLFile\n",
    "\n",
    "exp = MSExperiment()\n",
    "# Load file\n",
    "MzMLFile().load(tiny_mzml_filepath, exp)"
   ]
  },
  {
   "cell_type": "code",
   "execution_count": 13,
   "id": "bbe67f57-4261-4f92-9158-959e3071dad3",
   "metadata": {},
   "outputs": [
    {
     "name": "stdout",
     "output_type": "stream",
     "text": [
      "exp.getNrSpectra() --> 4\n",
      "exp.getNrChromatograms() --> 2\n"
     ]
    }
   ],
   "source": [
    "# tiny_mzml_filepath is loaded onto exp by reference\n",
    "\n",
    "# View help of exp object\n",
    "# help(exp)\n",
    "\n",
    "# We can get information about spectra and chromatograms using the following methods\n",
    "print(\"exp.getNrSpectra() -->\", exp.getNrSpectra())\n",
    "print(\"exp.getNrChromatograms() -->\", exp.getNrChromatograms())"
   ]
  },
  {
   "cell_type": "code",
   "execution_count": 14,
   "id": "edd93748-c247-4e10-bb73-10047faf0802",
   "metadata": {},
   "outputs": [
    {
     "name": "stdout",
     "output_type": "stream",
     "text": [
      "MS Level: 1\n",
      "MS Level: 2\n",
      "MS Level: 1\n",
      "MS Level: 1\n"
     ]
    }
   ],
   "source": [
    "# Iterate through spectra\n",
    "for spectra in exp:\n",
    "    print(\"MS Level:\", spectra.getMSLevel())"
   ]
  },
  {
   "cell_type": "code",
   "execution_count": 15,
   "id": "f7ebd3d5-0be0-4f2a-b449-8869291a9ba5",
   "metadata": {},
   "outputs": [
    {
     "name": "stdout",
     "output_type": "stream",
     "text": [
      "MS Level: 2\n"
     ]
    }
   ],
   "source": [
    "# Use index to get spectrum\n",
    "print(\"MS Level:\", exp[1].getMSLevel())"
   ]
  },
  {
   "cell_type": "code",
   "execution_count": 16,
   "id": "9a8258f6-22c1-4849-bee8-e40014473e00",
   "metadata": {},
   "outputs": [
    {
     "name": "stdout",
     "output_type": "stream",
     "text": [
      "[(0.0, 20.0), (2.0, 18.0), (4.0, 16.0), (6.0, 14.0), (8.0, 12.0), (10.0, 10.0), (12.0, 8.0), (14.0, 6.0), (16.0, 4.0), (18.0, 2.0)]\n",
      "110.0\n"
     ]
    }
   ],
   "source": [
    "# Obtain raw peaks\n",
    "spec = exp[1]\n",
    "mz, intensity = spec.get_peaks()\n",
    "print(list(zip(mz, intensity)))\n",
    "print(sum(intensity))"
   ]
  },
  {
   "cell_type": "markdown",
   "id": "630026de-1f5f-48f8-96b8-9991f1a3a8bd",
   "metadata": {},
   "source": [
    "## Total ion current calculation\n",
    "Here, we will apply what we have learned to calculate the total ion current (TIC). The TIC represents the summed intensity across the entire range of masses being detected at every point in the analysis. Basically, we calculate the total ion current of the whole experiment."
   ]
  },
  {
   "cell_type": "code",
   "execution_count": 17,
   "id": "a420cc6f-1afd-4263-90ad-3f4eb495d0ee",
   "metadata": {},
   "outputs": [],
   "source": [
    "# Define a function that calculates TIC for a given ms level\n",
    "\n",
    "def calcTIC(exp, mslevel):\n",
    "    tic = 0\n",
    "    # Iter through all spectra of the experiment\n",
    "    for spec in exp:\n",
    "    # Only calc TIC for matching MS1 spectra\n",
    "        if spec.getMSLevel() == mslevel:\n",
    "            mz, i = spec.get_peaks()\n",
    "            tic += sum(i)\n",
    "    return tic"
   ]
  },
  {
   "cell_type": "code",
   "execution_count": 18,
   "id": "5f98dd9d-6ddc-4615-80c7-6c9d0f824f44",
   "metadata": {},
   "outputs": [
    {
     "name": "stdout",
     "output_type": "stream",
     "text": [
      "240.0\n",
      "240.0\n",
      "110.0\n"
     ]
    }
   ],
   "source": [
    "# Now let's use our function to calculate the TIC\n",
    "print(calcTIC(exp, 1))\n",
    "# A list comprehension version of the calcTIC function above\n",
    "print(sum([sum(s.get_peaks()[1]) for s in exp if s.getMSLevel() == 1]))\n",
    "print(calcTIC(exp, 2))"
   ]
  },
  {
   "cell_type": "markdown",
   "id": "77908a81-81ea-4977-bc6b-90600ba4d36b",
   "metadata": {},
   "source": [
    "## TIC chromatogram\n",
    "The total ion current is visualized over the retention time, to allow for the inspection of areas with general high intensity (usually multiple analytes were measured there). This can help the experimentalist to optimize the chromatography for a better seperation in a specific area."
   ]
  },
  {
   "cell_type": "code",
   "execution_count": 20,
   "id": "c7db4b19-fa01-4899-a473-73953deadbac",
   "metadata": {},
   "outputs": [
    {
     "data": {
      "image/png": "[encoded data removed]",
      "text/plain": [
       "<Figure size 432x288 with 1 Axes>"
      ]
     },
     "metadata": {
      "needs_background": "light"
     },
     "output_type": "display_data"
    }
   ],
   "source": [
    "# Let's use matplotlib to visualize our TIC chromatogram\n",
    "import matplotlib.pyplot as plt\n",
    "from urllib.request import urlretrieve \n",
    "\n",
    "# retrieve MS data\n",
    "gh = \"https://raw.githubusercontent.com/OpenMS/pyopenms-extra/master\"\n",
    "output_ms_data = os.path.join(DATA_DIR, \"ms_data.mzML\")\n",
    "urlretrieve (gh + \"/src/data/FeatureFinderMetaboIdent_1_input.mzML\", output_ms_data)\n",
    "\n",
    "# load MS data into MSExperiment()\n",
    "exp = MSExperiment()\n",
    "MzMLFile().load(output_ms_data, exp)\n",
    "\n",
    "# choose one of the following three methods to access the TIC data\n",
    "# 1) recalculate TIC data with the calculateTIC() function\n",
    "tic = exp.calculateTIC()\n",
    "retention_times, intensities = tic.get_peaks()\n",
    "\n",
    "# 2) get TIC data using list comprehensions\n",
    "retention_times = [spec.getRT() for spec in exp]\n",
    "intensities = [sum(spec.get_peaks()[1]) for spec in exp if spec.getMSLevel() == 1]\n",
    "\n",
    "# 3) get TIC data looping over spectra in MSExperiment()\n",
    "retention_times = []\n",
    "intensities = []\n",
    "for spec in exp:\n",
    "    if spec.getMSLevel() == 1:\n",
    "        retention_times.append(spec.getRT())\n",
    "        intensities.append(sum(spec.get_peaks()[1]))\n",
    "\n",
    "# plot retention times and intensities and add labels\n",
    "plt.plot(retention_times, intensities)\n",
    "\n",
    "plt.title('TIC')\n",
    "plt.xlabel('time (s)')\n",
    "plt.ylabel('intensity (cps)')\n",
    "\n",
    "plt.show()"
   ]
  },
  {
   "cell_type": "code",
   "execution_count": null,
   "id": "218b2364-ff8a-437a-8621-c42f4a30a71e",
   "metadata": {},
   "outputs": [],
   "source": []
  },
  {
   "cell_type": "code",
   "execution_count": null,
   "id": "e1fc21f0-1d71-4982-8b17-3ab2a55e5b1e",
   "metadata": {},
   "outputs": [],
   "source": []
  }
 ],
 "metadata": {
  "kernelspec": {
   "display_name": "roest-lab",
   "language": "python",
   "name": "roest-lab"
  },
  "language_info": {
   "codemirror_mode": {
    "name": "ipython",
    "version": 3
   },
   "file_extension": ".py",
   "mimetype": "text/x-python",
   "name": "python",
   "nbconvert_exporter": "python",
   "pygments_lexer": "ipython3",
   "version": "3.8.12"
  }
 },
 "nbformat": 4,
 "nbformat_minor": 5
}
