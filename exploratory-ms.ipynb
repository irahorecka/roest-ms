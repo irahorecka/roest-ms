{
 "cells": [
  {
   "cell_type": "markdown",
   "id": "10ff9586-6bf8-4ac3-b90b-b3eeec816d53",
   "metadata": {},
   "source": [
    "# Roest Lab Jupyter Notebook for Exploratory Data Analysis\n",
    "This notebook is configured to the `roest-lab` virtual environment. Please ensure you have the `roest-lab` kernel activated when using this notebook.\n",
    "\n",
    "## Required PyPI packages\n",
    "- `numpy`\n",
    "- `pyopenms`"
   ]
  },
  {
   "cell_type": "code",
   "execution_count": 1,
   "id": "caa27244-2270-491a-9f0a-0e24f758be66",
   "metadata": {},
   "outputs": [
    {
     "name": "stdout",
     "output_type": "stream",
     "text": [
      "Welcome to the Roest Lab Exploratory MS Jupyter Notebook!\n"
     ]
    }
   ],
   "source": [
    "print(\"Welcome to the Roest Lab Exploratory MS Jupyter Notebook!\")"
   ]
  },
  {
   "cell_type": "code",
   "execution_count": 19,
   "id": "8148ad46-0299-429a-a4a6-7abdfe8b7aee",
   "metadata": {},
   "outputs": [],
   "source": [
    "# Set common directories\n",
    "import os\n",
    "\n",
    "BASE_DIR = os.path.abspath(os.getcwd())\n",
    "DATA_DIR = os.path.join(BASE_DIR, 'data')"
   ]
  },
  {
   "cell_type": "code",
   "execution_count": 21,
   "id": "7bcce104-ea22-426e-be63-95caf464e623",
   "metadata": {},
   "outputs": [],
   "source": [
    "# From pyOpenMS tutorial page - https://pyopenms.readthedocs.io/en/latest/first_steps.html\n",
    "from pyopenms import MSExperiment, MzMLFile\n",
    "\n",
    "exp = MSExperiment()\n",
    "MzMLFile().store(os.path.join(DATA_DIR, 'testfile.mzML'), exp)\n"
   ]
  },
  {
   "cell_type": "code",
   "execution_count": 25,
   "id": "2f0ee895-66a4-4ac4-b25b-c62e7f0b4d5c",
   "metadata": {},
   "outputs": [],
   "source": [
    "# Get help with Python objects in pyOpenMS\n",
    "# help(MzMLFile)\n",
    "# help(MSExperiment)"
   ]
  },
  {
   "cell_type": "code",
   "execution_count": null,
   "id": "ad7e2aa7-2455-4955-9bda-d9f03f582e5c",
   "metadata": {},
   "outputs": [],
   "source": []
  }
 ],
 "metadata": {
  "kernelspec": {
   "display_name": "roest-lab",
   "language": "python",
   "name": "roest-lab"
  },
  "language_info": {
   "codemirror_mode": {
    "name": "ipython",
    "version": 3
   },
   "file_extension": ".py",
   "mimetype": "text/x-python",
   "name": "python",
   "nbconvert_exporter": "python",
   "pygments_lexer": "ipython3",
   "version": "3.8.12"
  }
 },
 "nbformat": 4,
 "nbformat_minor": 5
}
