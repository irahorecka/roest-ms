{
 "cells": [
  {
   "cell_type": "markdown",
   "id": "10ff9586-6bf8-4ac3-b90b-b3eeec816d53",
   "metadata": {},
   "source": [
    "# Roest Lab Jupyter Notebook for Exploratory Data Analysis\n",
    "This notebook is configured to the `roest-lab` virtual environment. Please ensure you have the `roest-lab` kernel activated when using this notebook.\n",
    "\n",
    "## Required PyPI packages\n",
    "- `numpy`\n",
    "- `pyopenms`\n",
    "\n",
    "## Auxiliary PyPI packages for data analysis\n",
    "- `matplotlib`"
   ]
  },
  {
   "cell_type": "code",
   "execution_count": 1,
   "id": "caa27244-2270-491a-9f0a-0e24f758be66",
   "metadata": {},
   "outputs": [
    {
     "name": "stdout",
     "output_type": "stream",
     "text": [
      "Welcome to the Roest Lab Exploratory MS Jupyter Notebook!\n"
     ]
    }
   ],
   "source": [
    "print(\"Welcome to the Roest Lab Exploratory MS Jupyter Notebook!\")"
   ]
  },
  {
   "cell_type": "code",
   "execution_count": 43,
   "id": "8148ad46-0299-429a-a4a6-7abdfe8b7aee",
   "metadata": {},
   "outputs": [],
   "source": [
    "# Set common directories\n",
    "import os\n",
    "\n",
    "BASE_DIR = os.path.abspath(os.getcwd())\n",
    "DATA_DIR = os.path.join(BASE_DIR, 'data')"
   ]
  },
  {
   "cell_type": "code",
   "execution_count": 9,
   "id": "7bcce104-ea22-426e-be63-95caf464e623",
   "metadata": {},
   "outputs": [],
   "source": [
    "# From pyOpenMS tutorial page - https://pyopenms.readthedocs.io/en/latest/first_steps.html\n",
    "from pyopenms import MSExperiment, MzMLFile\n",
    "\n",
    "exp = MSExperiment()\n",
    "MzMLFile().store(os.path.join(DATA_DIR, 'testfile.mzML'), exp)\n"
   ]
  },
  {
   "cell_type": "code",
   "execution_count": 10,
   "id": "2f0ee895-66a4-4ac4-b25b-c62e7f0b4d5c",
   "metadata": {},
   "outputs": [],
   "source": [
    "# Get help with Python objects in pyOpenMS\n",
    "# help(MzMLFile)\n",
    "# help(MSExperiment)"
   ]
  },
  {
   "cell_type": "markdown",
   "id": "b67b16db-5540-4b8f-8b8d-b98406f6fc12",
   "metadata": {},
   "source": [
    "## File reading"
   ]
  },
  {
   "cell_type": "code",
   "execution_count": 11,
   "id": "69c3a5dd-231e-4a36-abea-47c949998ee8",
   "metadata": {},
   "outputs": [
    {
     "data": {
      "text/plain": [
       "('/Users/irahorecka/Desktop/Harddrive_Desktop/PhD/University of Toronto/Rotations/Rost Lab/roest-ms/data/tiny.mzML',\n",
       " <http.client.HTTPMessage at 0x7f9f90d9c490>)"
      ]
     },
     "execution_count": 11,
     "metadata": {},
     "output_type": "execute_result"
    }
   ],
   "source": [
    "import os\n",
    "from urllib.request import urlretrieve\n",
    "\n",
    "# Download small mzML file\n",
    "github_content = \"https://raw.githubusercontent.com/OpenMS/pyopenms-extra/master\"\n",
    "tiny_mzml_filepath = os.path.join(DATA_DIR, \"tiny.mzML\")\n",
    "urlretrieve(f\"{github_content}/src/data/tiny.mzML\", tiny_mzml_filepath)"
   ]
  },
  {
   "cell_type": "code",
   "execution_count": 12,
   "id": "a6be1e06-0d68-44ef-aed8-fa45c297e390",
   "metadata": {},
   "outputs": [],
   "source": [
    "from pyopenms import MSExperiment, MzMLFile\n",
    "\n",
    "exp = MSExperiment()\n",
    "# Load file\n",
    "MzMLFile().load(tiny_mzml_filepath, exp)"
   ]
  },
  {
   "cell_type": "code",
   "execution_count": 13,
   "id": "bbe67f57-4261-4f92-9158-959e3071dad3",
   "metadata": {},
   "outputs": [
    {
     "name": "stdout",
     "output_type": "stream",
     "text": [
      "exp.getNrSpectra() --> 4\n",
      "exp.getNrChromatograms() --> 2\n"
     ]
    }
   ],
   "source": [
    "# tiny_mzml_filepath is loaded onto exp by reference\n",
    "\n",
    "# View help of exp object\n",
    "# help(exp)\n",
    "\n",
    "# We can get information about spectra and chromatograms using the following methods\n",
    "print(\"exp.getNrSpectra() -->\", exp.getNrSpectra())\n",
    "print(\"exp.getNrChromatograms() -->\", exp.getNrChromatograms())"
   ]
  },
  {
   "cell_type": "code",
   "execution_count": 14,
   "id": "edd93748-c247-4e10-bb73-10047faf0802",
   "metadata": {},
   "outputs": [
    {
     "name": "stdout",
     "output_type": "stream",
     "text": [
      "MS Level: 1\n",
      "MS Level: 2\n",
      "MS Level: 1\n",
      "MS Level: 1\n"
     ]
    }
   ],
   "source": [
    "# Iterate through spectra\n",
    "for spectra in exp:\n",
    "    print(\"MS Level:\", spectra.getMSLevel())"
   ]
  },
  {
   "cell_type": "code",
   "execution_count": 15,
   "id": "f7ebd3d5-0be0-4f2a-b449-8869291a9ba5",
   "metadata": {},
   "outputs": [
    {
     "name": "stdout",
     "output_type": "stream",
     "text": [
      "MS Level: 2\n"
     ]
    }
   ],
   "source": [
    "# Use index to get spectrum\n",
    "print(\"MS Level:\", exp[1].getMSLevel())"
   ]
  },
  {
   "cell_type": "code",
   "execution_count": 16,
   "id": "9a8258f6-22c1-4849-bee8-e40014473e00",
   "metadata": {},
   "outputs": [
    {
     "name": "stdout",
     "output_type": "stream",
     "text": [
      "[(0.0, 20.0), (2.0, 18.0), (4.0, 16.0), (6.0, 14.0), (8.0, 12.0), (10.0, 10.0), (12.0, 8.0), (14.0, 6.0), (16.0, 4.0), (18.0, 2.0)]\n",
      "110.0\n"
     ]
    }
   ],
   "source": [
    "# Obtain raw peaks\n",
    "spec = exp[1]\n",
    "mz, intensity = spec.get_peaks()\n",
    "print(list(zip(mz, intensity)))\n",
    "print(sum(intensity))"
   ]
  },
  {
   "cell_type": "markdown",
   "id": "630026de-1f5f-48f8-96b8-9991f1a3a8bd",
   "metadata": {},
   "source": [
    "## Total ion current calculation\n",
    "Here, we will apply what we have learned to calculate the total ion current (TIC). The TIC represents the summed intensity across the entire range of masses being detected at every point in the analysis. Basically, we calculate the total ion current of the whole experiment."
   ]
  },
  {
   "cell_type": "code",
   "execution_count": 17,
   "id": "a420cc6f-1afd-4263-90ad-3f4eb495d0ee",
   "metadata": {},
   "outputs": [],
   "source": [
    "# Define a function that calculates TIC for a given ms level\n",
    "\n",
    "def calcTIC(exp, mslevel):\n",
    "    tic = 0\n",
    "    # Iter through all spectra of the experiment\n",
    "    for spec in exp:\n",
    "    # Only calc TIC for matching MS1 spectra\n",
    "        if spec.getMSLevel() == mslevel:\n",
    "            mz, i = spec.get_peaks()\n",
    "            tic += sum(i)\n",
    "    return tic"
   ]
  },
  {
   "cell_type": "code",
   "execution_count": 18,
   "id": "5f98dd9d-6ddc-4615-80c7-6c9d0f824f44",
   "metadata": {},
   "outputs": [
    {
     "name": "stdout",
     "output_type": "stream",
     "text": [
      "240.0\n",
      "240.0\n",
      "110.0\n"
     ]
    }
   ],
   "source": [
    "# Now let's use our function to calculate the TIC\n",
    "print(calcTIC(exp, 1))\n",
    "# A list comprehension version of the calcTIC function above\n",
    "print(sum([sum(s.get_peaks()[1]) for s in exp if s.getMSLevel() == 1]))\n",
    "print(calcTIC(exp, 2))"
   ]
  },
  {
   "cell_type": "markdown",
   "id": "77908a81-81ea-4977-bc6b-90600ba4d36b",
   "metadata": {},
   "source": [
    "## TIC chromatogram\n",
    "The total ion current is visualized over the retention time, to allow for the inspection of areas with general high intensity (usually multiple analytes were measured there). This can help the experimentalist to optimize the chromatography for a better seperation in a specific area."
   ]
  },
  {
   "cell_type": "code",
   "execution_count": 20,
   "id": "c7db4b19-fa01-4899-a473-73953deadbac",
   "metadata": {},
   "outputs": [
    {
     "data": {
      "image/png": "[encoded data removed]",
      "text/plain": [
       "<Figure size 432x288 with 1 Axes>"
      ]
     },
     "metadata": {
      "needs_background": "light"
     },
     "output_type": "display_data"
    }
   ],
   "source": [
    "# Let's use matplotlib to visualize our TIC chromatogram\n",
    "import matplotlib.pyplot as plt\n",
    "from urllib.request import urlretrieve \n",
    "\n",
    "# retrieve MS data\n",
    "gh = \"https://raw.githubusercontent.com/OpenMS/pyopenms-extra/master\"\n",
    "output_ms_data = os.path.join(DATA_DIR, \"ms_data.mzML\")\n",
    "urlretrieve (gh + \"/src/data/FeatureFinderMetaboIdent_1_input.mzML\", output_ms_data)\n",
    "\n",
    "# load MS data into MSExperiment()\n",
    "exp = MSExperiment()\n",
    "MzMLFile().load(output_ms_data, exp)\n",
    "\n",
    "# choose one of the following three methods to access the TIC data\n",
    "# 1) recalculate TIC data with the calculateTIC() function\n",
    "tic = exp.calculateTIC()\n",
    "retention_times, intensities = tic.get_peaks()\n",
    "\n",
    "# 2) get TIC data using list comprehensions\n",
    "retention_times = [spec.getRT() for spec in exp]\n",
    "intensities = [sum(spec.get_peaks()[1]) for spec in exp if spec.getMSLevel() == 1]\n",
    "\n",
    "# 3) get TIC data looping over spectra in MSExperiment()\n",
    "retention_times = []\n",
    "intensities = []\n",
    "for spec in exp:\n",
    "    if spec.getMSLevel() == 1:\n",
    "        retention_times.append(spec.getRT())\n",
    "        intensities.append(sum(spec.get_peaks()[1]))\n",
    "\n",
    "# plot retention times and intensities and add labels\n",
    "plt.plot(retention_times, intensities)\n",
    "\n",
    "plt.title('TIC')\n",
    "plt.xlabel('time (s)')\n",
    "plt.ylabel('intensity (cps)')\n",
    "\n",
    "plt.show()"
   ]
  },
  {
   "cell_type": "markdown",
   "id": "913e1df3-ef1e-4248-8776-5b38aad9bd98",
   "metadata": {},
   "source": [
    "## Spectrum\n",
    "`MSSpectrum` is the most important container for raw data and peaks. `MSSpectrum` is a container for 1D peak data (container for `Peak1D`). You can directly access these objects, however it is faster to use `get_peaks()` and `set_peaks` functions. These functions use numpy arrays for raw data access. Access spectrum metadata through `SpectrumSettings`.\n",
    "\n",
    "In the example below, let's instantiate the `MSSpectrum` with peaks, sort the peaks according to m/z ratio, and finally let's display peak positions."
   ]
  },
  {
   "cell_type": "code",
   "execution_count": 37,
   "id": "e1fc21f0-1d71-4982-8b17-3ab2a55e5b1e",
   "metadata": {},
   "outputs": [
    {
     "name": "stdout",
     "output_type": "stream",
     "text": [
      "600.0 0.0\n",
      "700.0 0.0\n",
      "800.0 0.0\n",
      "900.0 0.0\n",
      "1000.0 0.0\n",
      "1100.0 0.0\n",
      "1200.0 0.0\n",
      "1300.0 0.0\n",
      "1400.0 0.0\n",
      "1500.0 0.0\n",
      "600.0 0.0\n",
      "700.0 0.0\n",
      "800.0 0.0\n",
      "900.0 0.0\n",
      "1000.0 0.0\n",
      "1100.0 0.0\n",
      "1200.0 0.0\n",
      "1300.0 0.0\n",
      "1400.0 0.0\n",
      "1500.0 0.0\n",
      "800.0 0.0\n"
     ]
    }
   ],
   "source": [
    "from pyopenms import MSSpectrum\n",
    "\n",
    "spectrum = MSSpectrum()\n",
    "mz = range(1500, 500, -100)\n",
    "# i --> intensity\n",
    "i = [0 for mass in mz]\n",
    "spectrum.set_peaks([mz, i])\n",
    "\n",
    "# Sort peak according to ascending m/z ratio\n",
    "spectrum.sortByPosition()\n",
    "\n",
    "# Iterate over spectrum of those peaks\n",
    "# This process is expensive and should NOT be used in production code\n",
    "# Direct access to the Peak1D object is expensive and should NOT be done\n",
    "for p in spectrum:\n",
    "    # p --> Peak1D object\n",
    "    print(p.getMZ(), p.getIntensity())\n",
    "    \n",
    "# More efficient peak access can be achieved with get_peaks()\n",
    "# Unpack tuple to allow 1-to-1 zipping\n",
    "for mz, i in zip(*spectrum.get_peaks()):\n",
    "    print(mz, i)\n",
    "    \n",
    "# Again, you can access a peak by its index\n",
    "print(spectrum[2].getMZ(), spectrum[2].getIntensity())"
   ]
  },
  {
   "cell_type": "code",
   "execution_count": 44,
   "id": "a21431b3-31d0-4fa6-9b4a-137a68e4c762",
   "metadata": {},
   "outputs": [
    {
     "name": "stdout",
     "output_type": "stream",
     "text": [
      "scan polarity: positive\n"
     ]
    }
   ],
   "source": [
    "from pyopenms import (MSExperiment, MSSpectrum, Precursor,\n",
    "                      InstrumentSettings, FloatDataArray, StringDataArray,\n",
    "                      IonSource)\n",
    "\n",
    "# create spectrum and set properties\n",
    "spectrum = MSSpectrum()\n",
    "spectrum.setDriftTime(25) # 25 ms\n",
    "spectrum.setRT(205.2) # 205.2 s\n",
    "spectrum.setMSLevel(3) # MS3\n",
    "\n",
    "# Add peak(s) to spectrum\n",
    "spectrum.set_peaks( ([401.5], [900]) )\n",
    "\n",
    "# create precursor information\n",
    "p = Precursor()\n",
    "p.setMZ(600) # isolation at 600 +/- 1.5 Th\n",
    "p.setIsolationWindowLowerOffset(1.5)\n",
    "p.setIsolationWindowUpperOffset(1.5)\n",
    "p.setActivationEnergy(40) # 40 eV\n",
    "p.setCharge(4) # 4+ ion\n",
    "\n",
    "# and store precursor in spectrum\n",
    "spectrum.setPrecursors([p])\n",
    "\n",
    "# set additional instrument settings (e.g. scan polarity)\n",
    "IS = InstrumentSettings()\n",
    "IS.setPolarity(IonSource.Polarity.POSITIVE)\n",
    "spectrum.setInstrumentSettings(IS)\n",
    "\n",
    "# get and check scan polarity\n",
    "polarity = spectrum.getInstrumentSettings().getPolarity()\n",
    "if (polarity == IonSource.Polarity.POSITIVE):\n",
    "    print(\"scan polarity: positive\")\n",
    "elif (polarity == IonSource.Polarity.NEGATIVE):\n",
    "    print(\"scan polarity: negative\")\n",
    "\n",
    "# Optional: additional data arrays / peak annotations\n",
    "fda = FloatDataArray()\n",
    "fda.setName(\"Signal to Noise Array\")\n",
    "fda.push_back(15)\n",
    "sda = StringDataArray()\n",
    "sda.setName(\"Peak annotation\")\n",
    "sda.push_back(\"y15++\")\n",
    "spectrum.setFloatDataArrays( [fda] )\n",
    "spectrum.setStringDataArrays( [sda] )\n",
    "\n",
    "# Add spectrum to MSExperiment\n",
    "exp = MSExperiment()\n",
    "exp.addSpectrum(spectrum)\n",
    "\n",
    "# Add second spectrum to the MSExperiment\n",
    "spectrum2 = MSSpectrum()\n",
    "spectrum2.set_peaks( ([1, 2], [1, 2]) )\n",
    "exp.addSpectrum(spectrum2)\n",
    "\n",
    "output_test_file = os.path.join(DATA_DIR, \"testfile.mzML\")\n",
    "# store spectra in mzML file\n",
    "MzMLFile().store(output_test_file, exp)"
   ]
  },
  {
   "cell_type": "markdown",
   "id": "d76a395d-6fe4-4b8e-b774-328782874d7e",
   "metadata": {},
   "source": [
    "## What just happened above?\n",
    "\n",
    "- We created a single spectrum and set basic spectrum properties\n",
    "    - drift time\n",
    "    - RT\n",
    "    - MS level\n",
    "    - precursor charge\n",
    "    - isolation window\n",
    "    - activation energy\n",
    "- We also set instrument settings (i.e. polarity of ion source)\n",
    "- We then added actual peaks to the spectrum\n",
    "    - 401.5 m/z with 900 intensity\n",
    "- We then instantiated an MSExperiment object and saved our results to an .mzML file\n",
    "\n",
    "We can view this .mzML file in TOPPView, an application that is installed with OpenMS.\n",
    "We can also view our spectrum with matplotlib, as follows:"
   ]
  },
  {
   "cell_type": "code",
   "execution_count": 52,
   "id": "b20cca70-8153-4f2e-8b6e-6ff15d1197a3",
   "metadata": {},
   "outputs": [
    {
     "name": "stdout",
     "output_type": "stream",
     "text": [
      "[(401.5, 900.0)]\n"
     ]
    },
    {
     "data": {
      "image/png": "[encoded data removed]",
      "text/plain": [
       "<Figure size 432x288 with 1 Axes>"
      ]
     },
     "metadata": {
      "needs_background": "light"
     },
     "output_type": "display_data"
    }
   ],
   "source": [
    "import matplotlib.pyplot as plt\n",
    "\n",
    "def plot_spectrum(spectrum):\n",
    "    # plot every peak in spectrum and annotate with it's m/z\n",
    "    for mz, i in zip(*spectrum.get_peaks()):\n",
    "        plt.plot([mz, mz], [0, i], color = 'black')\n",
    "        plt.text(mz, i, str(mz))\n",
    "\n",
    "    # for the title add RT and Precursor m/z if available\n",
    "    title = ''\n",
    "    if spectrum.getRT() >= 0:\n",
    "        title += 'RT: ' + str(spectrum.getRT())\n",
    "    if len(spectrum.getPrecursors()) >= 1:\n",
    "        title += '   Precursor m/z: ' + str(spectrum.getPrecursors()[0].getMZ())\n",
    "\n",
    "    plt.title(title)\n",
    "    plt.ylabel('intensity')\n",
    "    plt.xlabel('m/z')\n",
    "    plt.ylim(bottom=0)\n",
    "\n",
    "    plt.show()\n",
    "\n",
    "# plotting out spectrum that was defined earlier\n",
    "plot_spectrum(spectrum)"
   ]
  },
  {
   "cell_type": "markdown",
   "id": "37554471-188d-43b5-bf0b-fadef1bc4bf8",
   "metadata": {},
   "source": [
    "## Chromatogram\n",
    "We can use the MSChromatogram class, which is similar to the MSSpectrum class, but contains ChromatogramPeak and is derived from ChromatogramSettings"
   ]
  },
  {
   "cell_type": "code",
   "execution_count": 62,
   "id": "70362a85-7abf-4381-8a1a-82b21376c170",
   "metadata": {},
   "outputs": [
    {
     "name": "stdout",
     "output_type": "stream",
     "text": [
      "600.0 0.003865920240059495\n",
      "700.0 0.000335462624207139\n",
      "800.0 1.866446837084368e-05\n",
      "900.0 6.658361257905199e-07\n",
      "1000.0 1.5229979055675358e-08\n",
      "1100.0 2.2336314742243957e-10\n",
      "1200.0 2.100409256244884e-12\n",
      "1300.0 1.2664165777252073e-14\n",
      "1400.0 4.895865324380882e-17\n",
      "1500.0 1.2135636560129653e-19\n",
      "600.0 0.0038659202\n",
      "700.0 0.00033546262\n",
      "800.0 1.8664468e-05\n",
      "900.0 6.658361e-07\n",
      "1000.0 1.5229979e-08\n",
      "1100.0 2.2336315e-10\n",
      "1200.0 2.1004093e-12\n",
      "1300.0 1.2664166e-14\n",
      "1400.0 4.8958653e-17\n",
      "1500.0 1.2135637e-19\n",
      "800.0 1.866446837084368e-05\n"
     ]
    }
   ],
   "source": [
    "import numpy as np\n",
    "from pyopenms import MSChromatogram, Product\n",
    "\n",
    "def gaussian(x, mu, sig):\n",
    "    return np.exp(-np.power(x - mu, 2.) / (2 * np.power(sig, 2.)))\n",
    "\n",
    "# Create new chromatogram\n",
    "chromatogram = MSChromatogram()\n",
    "\n",
    "# Set raw data (RT and intensity)\n",
    "rt = range(1500, 500, -100)\n",
    "i = [gaussian(rtime, 100, 150) for rtime in rt]\n",
    "chromatogram.set_peaks([rt, i])\n",
    "\n",
    "# Sort peaks according to ascending retention time\n",
    "chromatogram.sortByPosition()\n",
    "\n",
    "# Iterate over chromatogram of those peaks\n",
    "for p in chromatogram:\n",
    "    print(p.getRT(), p.getIntensity())\n",
    "    \n",
    "# Here's a more efficient peak access using the get_peaks() method\n",
    "for rt, i in zip(*chromatogram.get_peaks()):\n",
    "    print(rt, i)\n",
    "    \n",
    "# Again, let's access a peak by its index\n",
    "print(chromatogram[2].getRT(), chromatogram[2].getIntensity())\n",
    "\n",
    "# Let's add metadata to our chromatogram\n",
    "chromatogram.setNativeID(\"Trace XIC@405.2\")\n",
    "\n",
    "# Let's add a precursor ion for the chromatogram\n",
    "p = Precursor()\n",
    "p.setIsolationWindowLowerOffset(1.5)\n",
    "p.setIsolationWindowUpperOffset(1.5)\n",
    "p.setMZ(405.2)  # isolation at 405.2 +/- 1.5 Th\n",
    "p.setActivationEnergy(40)  # 40 eV\n",
    "p.setCharge(2)\n",
    "p.setMetaValue(\"description\", chromatogram.getNativeID())\n",
    "p.setMetaValue(\"peptide_sequence\", chromatogram.getNativeID())\n",
    "chromatogram.setPrecursor(p)\n",
    "\n",
    "# Also store a product ion for the chromatogram (e.g., for SRM)\n",
    "p = Product()\n",
    "p.setMZ(603.4)  # Transition from 405.2 --> 603.4\n",
    "chromatogram.setProduct(p)\n",
    "\n",
    "# Finally, instantiate a new experiment and store chromatogram as an mzML file\n",
    "exp = MSExperiment()\n",
    "exp.addChromatogram(chromatogram)\n",
    "output_file_test3 = os.path.join(DATA_DIR, \"testfile3.mzML\")\n",
    "MzMLFile().store(output_file_test3, exp)"
   ]
  },
  {
   "cell_type": "code",
   "execution_count": 63,
   "id": "9a7d80da-5be6-404a-9ed9-feb5ce69f44b",
   "metadata": {},
   "outputs": [
    {
     "data": {
      "image/png": "[encoded data removed]",
      "text/plain": [
       "<Figure size 432x288 with 1 Axes>"
      ]
     },
     "metadata": {
      "needs_background": "light"
     },
     "output_type": "display_data"
    }
   ],
   "source": [
    "# Now let's visualize our exported file in matplotlib\n",
    "\n",
    "import matplotlib.pyplot as plt\n",
    "\n",
    "for chrom in exp.getChromatograms():\n",
    "    retention_times, intensities = chrom.get_peaks()\n",
    "    plt.plot(retention_times, intensities, label=chrom.getNativeID())\n",
    "    \n",
    "plt.xlabel('time (s)')\n",
    "plt.ylabel('intensity (cps)')\n",
    "plt.legend()\n",
    "plt.show()"
   ]
  },
  {
   "cell_type": "markdown",
   "id": "3c7eef94-f7ed-4a63-ab5b-e38a5de7ef8c",
   "metadata": {},
   "source": [
    "What we see above shows that the `MSExperiment` class can hold:\n",
    "    \n",
    "    - spectra\n",
    "    - chromatograms"
   ]
  },
  {
   "cell_type": "code",
   "execution_count": null,
   "id": "b7992721-7f13-4444-bbe8-35707f7ed9de",
   "metadata": {},
   "outputs": [],
   "source": [
    "\n"
   ]
  }
 ],
 "metadata": {
  "kernelspec": {
   "display_name": "roest-lab",
   "language": "python",
   "name": "roest-lab"
  },
  "language_info": {
   "codemirror_mode": {
    "name": "ipython",
    "version": 3
   },
   "file_extension": ".py",
   "mimetype": "text/x-python",
   "name": "python",
   "nbconvert_exporter": "python",
   "pygments_lexer": "ipython3",
   "version": "3.8.12"
  }
 },
 "nbformat": 4,
 "nbformat_minor": 5
}
